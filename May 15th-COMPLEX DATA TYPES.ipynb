{
 "cells": [
  {
   "cell_type": "raw",
   "id": "c50e5116-e56f-41de-92fa-a8defcc6e7ca",
   "metadata": {},
   "source": [
    "# COMPLEX DATA TYPES"
   ]
  },
  {
   "cell_type": "code",
   "execution_count": null,
   "id": "871e39e0-af34-452c-b803-1e043788bedf",
   "metadata": {},
   "outputs": [],
   "source": [
    "# Complex data type consist of real and imaginary number. Imaginary number is represented by j/J"
   ]
  },
  {
   "cell_type": "code",
   "execution_count": 1,
   "id": "2a5fc086-dc56-40a2-b74d-a590bc817f17",
   "metadata": {},
   "outputs": [],
   "source": [
    "a= 3+4j"
   ]
  },
  {
   "cell_type": "code",
   "execution_count": 5,
   "id": "8adfaf7d-08ae-4b91-8b68-8ce9821db3e8",
   "metadata": {},
   "outputs": [
    {
     "name": "stdout",
     "output_type": "stream",
     "text": [
      "3.0\n"
     ]
    }
   ],
   "source": [
    "print(a.real) #Prints real number"
   ]
  },
  {
   "cell_type": "code",
   "execution_count": 7,
   "id": "7f72328d-1d7d-4e27-adad-61177d32a3e4",
   "metadata": {},
   "outputs": [
    {
     "name": "stdout",
     "output_type": "stream",
     "text": [
      "4.0\n"
     ]
    }
   ],
   "source": [
    "print(a.imag) #prints imaginary number"
   ]
  },
  {
   "cell_type": "code",
   "execution_count": 9,
   "id": "3524cfca-8029-4d2f-924d-20ddc2c8c585",
   "metadata": {},
   "outputs": [],
   "source": [
    "b= 5+6j"
   ]
  },
  {
   "cell_type": "code",
   "execution_count": 11,
   "id": "ff6b0050-b507-4287-8173-d344c92573ca",
   "metadata": {},
   "outputs": [
    {
     "data": {
      "text/plain": [
       "(8+10j)"
      ]
     },
     "execution_count": 11,
     "metadata": {},
     "output_type": "execute_result"
    }
   ],
   "source": [
    "c= a+b\n",
    "c"
   ]
  },
  {
   "cell_type": "code",
   "execution_count": 13,
   "id": "0e0ed25a-3c92-46a6-b20c-b49f32f09d14",
   "metadata": {},
   "outputs": [
    {
     "data": {
      "text/plain": [
       "(-2-2j)"
      ]
     },
     "execution_count": 13,
     "metadata": {},
     "output_type": "execute_result"
    }
   ],
   "source": [
    "c= a-b\n",
    "c"
   ]
  },
  {
   "cell_type": "code",
   "execution_count": 15,
   "id": "d8007445-eec4-48d6-be48-8cf849cdfdaf",
   "metadata": {},
   "outputs": [
    {
     "data": {
      "text/plain": [
       "(1.5+2j)"
      ]
     },
     "execution_count": 15,
     "metadata": {},
     "output_type": "execute_result"
    }
   ],
   "source": [
    "c= a/2\n",
    "c"
   ]
  },
  {
   "cell_type": "code",
   "execution_count": 17,
   "id": "d0626599-f3c3-4c18-8711-d4bfb9904cd2",
   "metadata": {},
   "outputs": [
    {
     "ename": "TypeError",
     "evalue": "unsupported operand type(s) for //: 'complex' and 'complex'",
     "output_type": "error",
     "traceback": [
      "\u001b[1;31m---------------------------------------------------------------------------\u001b[0m",
      "\u001b[1;31mTypeError\u001b[0m                                 Traceback (most recent call last)",
      "Cell \u001b[1;32mIn[17], line 1\u001b[0m\n\u001b[1;32m----> 1\u001b[0m c\u001b[38;5;241m=\u001b[39m a\u001b[38;5;241m/\u001b[39m\u001b[38;5;241m/\u001b[39mb\n",
      "\u001b[1;31mTypeError\u001b[0m: unsupported operand type(s) for //: 'complex' and 'complex'"
     ]
    }
   ],
   "source": [
    "c= a//b  ## // can not be used for complex data types"
   ]
  },
  {
   "cell_type": "code",
   "execution_count": 19,
   "id": "b9771bfe-90f0-4bf1-97d3-4bb94f726da0",
   "metadata": {},
   "outputs": [
    {
     "name": "stdout",
     "output_type": "stream",
     "text": [
      "2.5\n"
     ]
    }
   ],
   "source": [
    "print(abs(c)) #abs(): Returns the magnitude (absolute value) of the complex number"
   ]
  },
  {
   "cell_type": "code",
   "execution_count": 29,
   "id": "6ed4695e-fe7f-4c90-9a14-f82e3d789696",
   "metadata": {},
   "outputs": [
    {
     "ename": "AttributeError",
     "evalue": "'complex' object has no attribute 'conj'",
     "output_type": "error",
     "traceback": [
      "\u001b[1;31m---------------------------------------------------------------------------\u001b[0m",
      "\u001b[1;31mAttributeError\u001b[0m                            Traceback (most recent call last)",
      "Cell \u001b[1;32mIn[29], line 1\u001b[0m\n\u001b[1;32m----> 1\u001b[0m \u001b[38;5;28mprint\u001b[39m(c\u001b[38;5;241m.\u001b[39mconj())\n",
      "\u001b[1;31mAttributeError\u001b[0m: 'complex' object has no attribute 'conj'"
     ]
    }
   ],
   "source": [
    "print(c.conj()) #Returns the complex conjugate of the number."
   ]
  },
  {
   "cell_type": "code",
   "execution_count": null,
   "id": "e8bfc3f3-6e70-4909-8fe2-0727d60484d2",
   "metadata": {},
   "outputs": [],
   "source": [
    "#Complex Number in the cmath Module\n",
    "The cmath module provides additional functionality for complex numbers, such as trigonometric functions, logarithms, and square roots."
   ]
  },
  {
   "cell_type": "code",
   "execution_count": 37,
   "id": "89d17611-3478-4af1-bf57-949bdb17cf0f",
   "metadata": {},
   "outputs": [],
   "source": [
    "import cmath"
   ]
  },
  {
   "cell_type": "code",
   "execution_count": 31,
   "id": "75914557-c3c3-4254-8590-23a23c339d9a",
   "metadata": {},
   "outputs": [],
   "source": [
    "d= 3+7j"
   ]
  },
  {
   "cell_type": "code",
   "execution_count": 39,
   "id": "58decf43-f003-4fac-b65d-07ef0e5a7214",
   "metadata": {},
   "outputs": [
    {
     "name": "stdout",
     "output_type": "stream",
     "text": [
      "1.1659045405098132\n"
     ]
    }
   ],
   "source": [
    "print(cmath.phase(d)) #Gets the phase/angle of complex number"
   ]
  },
  {
   "cell_type": "code",
   "execution_count": 41,
   "id": "464cd7f0-3eb2-4977-9145-a568990a1667",
   "metadata": {},
   "outputs": [
    {
     "name": "stdout",
     "output_type": "stream",
     "text": [
      "(7.615773105863909, 1.1659045405098132)\n"
     ]
    }
   ],
   "source": [
    "print(cmath.polar(d))  # Gets the polar form of complex number"
   ]
  },
  {
   "cell_type": "code",
   "execution_count": 43,
   "id": "ae84d5ae-3972-4fe3-9a8a-55ab2f0123d1",
   "metadata": {},
   "outputs": [
    {
     "name": "stdout",
     "output_type": "stream",
     "text": [
      "(2.3038850997677716+1.5191729832155236j)\n"
     ]
    }
   ],
   "source": [
    "print(cmath.sqrt(d)) #Gets square root of the complex number"
   ]
  },
  {
   "cell_type": "code",
   "execution_count": null,
   "id": "1655002c-13d3-4ddf-9509-33f835dfd474",
   "metadata": {},
   "outputs": [],
   "source": []
  },
  {
   "cell_type": "code",
   "execution_count": null,
   "id": "712ab388-9d1f-4f0b-aac5-84e70447ff24",
   "metadata": {},
   "outputs": [],
   "source": []
  },
  {
   "cell_type": "code",
   "execution_count": null,
   "id": "abedebff-86e2-446a-8395-c4dc94ac9b82",
   "metadata": {},
   "outputs": [],
   "source": []
  },
  {
   "cell_type": "code",
   "execution_count": null,
   "id": "b85bcdc8-f409-4dc0-87d0-26292cd15605",
   "metadata": {},
   "outputs": [],
   "source": []
  },
  {
   "cell_type": "code",
   "execution_count": null,
   "id": "2c2bbb0c-bc3c-41d0-985a-71d19c00ac71",
   "metadata": {},
   "outputs": [],
   "source": []
  },
  {
   "cell_type": "code",
   "execution_count": null,
   "id": "b67e7e8c-9deb-488b-83c5-b2ff28c1f1e0",
   "metadata": {},
   "outputs": [],
   "source": []
  },
  {
   "cell_type": "code",
   "execution_count": null,
   "id": "4a203eca-f17e-48c1-9664-0fcb7d2dbf4a",
   "metadata": {},
   "outputs": [],
   "source": []
  },
  {
   "cell_type": "code",
   "execution_count": null,
   "id": "fa4c4f1c-ef1c-4fd8-b4ec-1c4df82370b6",
   "metadata": {},
   "outputs": [],
   "source": []
  },
  {
   "cell_type": "code",
   "execution_count": null,
   "id": "c6a5423a-06a8-4ea9-a1eb-de44a870bbc5",
   "metadata": {},
   "outputs": [],
   "source": []
  },
  {
   "cell_type": "code",
   "execution_count": null,
   "id": "6242574c-2340-4a9c-b59e-92183a2de0cf",
   "metadata": {},
   "outputs": [],
   "source": []
  },
  {
   "cell_type": "raw",
   "id": "5fd63d4f-5104-4d0c-a0fd-1fabf3e14396",
   "metadata": {},
   "source": []
  }
 ],
 "metadata": {
  "kernelspec": {
   "display_name": "Python [conda env:base] *",
   "language": "python",
   "name": "conda-base-py"
  },
  "language_info": {
   "codemirror_mode": {
    "name": "ipython",
    "version": 3
   },
   "file_extension": ".py",
   "mimetype": "text/x-python",
   "name": "python",
   "nbconvert_exporter": "python",
   "pygments_lexer": "ipython3",
   "version": "3.12.7"
  }
 },
 "nbformat": 4,
 "nbformat_minor": 5
}
