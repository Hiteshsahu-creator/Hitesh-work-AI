{
 "cells": [
  {
   "cell_type": "code",
   "execution_count": null,
   "id": "ca03e3f0-608a-4157-b425-3df3cd103cce",
   "metadata": {},
   "outputs": [],
   "source": [
    "#Variables"
   ]
  },
  {
   "cell_type": "code",
   "execution_count": 5,
   "id": "758a361d-a190-4fb4-becc-a775f53d508e",
   "metadata": {},
   "outputs": [],
   "source": [
    "import sys\n",
    "import keyword\n",
    "import operator\n",
    "from datetime import datetime\n",
    "import os\n"
   ]
  },
  {
   "cell_type": "code",
   "execution_count": 8,
   "id": "b11c6512-a0be-493c-8868-97680cdceb51",
   "metadata": {},
   "outputs": [
    {
     "name": "stdout",
     "output_type": "stream",
     "text": [
      "['False', 'None', 'True', 'and', 'as', 'assert', 'async', 'await', 'break', 'class', 'continue', 'def', 'del', 'elif', 'else', 'except', 'finally', 'for', 'from', 'global', 'if', 'import', 'in', 'is', 'lambda', 'nonlocal', 'not', 'or', 'pass', 'raise', 'return', 'try', 'while', 'with', 'yield']\n"
     ]
    }
   ],
   "source": [
    "print(keyword.kwlist)  #Keywords can not be used for variables. Also numbers, functions, special characters can't be used "
   ]
  },
  {
   "cell_type": "code",
   "execution_count": 10,
   "id": "df64dfc1-c6a5-49f5-a337-4ecf9ac4603f",
   "metadata": {},
   "outputs": [
    {
     "name": "stdout",
     "output_type": "stream",
     "text": [
      "35\n"
     ]
    }
   ],
   "source": [
    "print(len(keyword.kwlist))"
   ]
  },
  {
   "cell_type": "code",
   "execution_count": 12,
   "id": "94b7a4ac-d40b-474b-92bf-538060ab4fd6",
   "metadata": {},
   "outputs": [],
   "source": [
    "a=10\n",
    "b=11"
   ]
  },
  {
   "cell_type": "code",
   "execution_count": 28,
   "id": "8cf90f3e-1df0-4abf-9f32-42fba7c0d7d9",
   "metadata": {},
   "outputs": [],
   "source": [
    "c=b\n",
    "d=a"
   ]
  },
  {
   "cell_type": "code",
   "execution_count": 30,
   "id": "e82abd64-b995-4075-a76d-8c1aab98947e",
   "metadata": {},
   "outputs": [
    {
     "name": "stdout",
     "output_type": "stream",
     "text": [
      "10\n",
      "11\n"
     ]
    }
   ],
   "source": [
    "print(a)\n",
    "print(b)"
   ]
  },
  {
   "cell_type": "code",
   "execution_count": 32,
   "id": "e0dc2842-cbce-4b25-b2d6-a92f124cad32",
   "metadata": {},
   "outputs": [
    {
     "data": {
      "text/plain": [
       "(20, int, '0x7ffc62372c18')"
      ]
     },
     "execution_count": 32,
     "metadata": {},
     "output_type": "execute_result"
    }
   ],
   "source": [
    "p=20\n",
    "q=20\n",
    "r=q\n",
    "p,type(p), hex(id(p))"
   ]
  },
  {
   "cell_type": "code",
   "execution_count": 34,
   "id": "739b0400-518f-496a-ad4d-1aa4adc798e2",
   "metadata": {},
   "outputs": [
    {
     "data": {
      "text/plain": [
       "50"
      ]
     },
     "execution_count": 34,
     "metadata": {},
     "output_type": "execute_result"
    }
   ],
   "source": [
    "p=20+30   #Variable overwritting\n",
    "p"
   ]
  },
  {
   "cell_type": "code",
   "execution_count": 36,
   "id": "e9a324af-fc00-4ee2-ab87-0c39cd36555b",
   "metadata": {},
   "outputs": [],
   "source": [
    "intvar= 5\n",
    "floatvar= 4.5\n",
    "strgvar= 'string variable'"
   ]
  },
  {
   "cell_type": "code",
   "execution_count": 38,
   "id": "9dec208e-b488-4fd8-9f14-7175de841bd9",
   "metadata": {},
   "outputs": [
    {
     "name": "stdout",
     "output_type": "stream",
     "text": [
      "5\n",
      "4.5\n",
      "string variable\n"
     ]
    }
   ],
   "source": [
    "print(intvar)\n",
    "print(floatvar)\n",
    "print(strgvar)"
   ]
  },
  {
   "cell_type": "code",
   "execution_count": 40,
   "id": "2d41e830-32cf-4303-984b-4c09588008e5",
   "metadata": {},
   "outputs": [
    {
     "name": "stdout",
     "output_type": "stream",
     "text": [
      "34\n",
      "4.9\n",
      "it works\n"
     ]
    }
   ],
   "source": [
    "intvar, floatvar, strgvar= 34,4.9, 'it works'   #Multiple Assignments\n",
    "print(intvar)\n",
    "print(floatvar)\n",
    "print(strgvar)"
   ]
  },
  {
   "cell_type": "code",
   "execution_count": 42,
   "id": "231dfa4c-8aa5-40cc-bbd5-4b4ddec7021a",
   "metadata": {},
   "outputs": [
    {
     "name": "stdout",
     "output_type": "stream",
     "text": [
      "10 10 10 10\n"
     ]
    }
   ],
   "source": [
    "a=b=c=d  #Same variables\n",
    "print(a,b,c,d)"
   ]
  },
  {
   "cell_type": "code",
   "execution_count": 46,
   "id": "51b305d6-fcbf-4080-8177-dad6d5bfd64f",
   "metadata": {},
   "outputs": [
    {
     "name": "stdout",
     "output_type": "stream",
     "text": [
      "28\n"
     ]
    }
   ],
   "source": [
    "print(sys.getsizeof(a)) #sys.getsizeof gets the byte size of the vaiablle"
   ]
  },
  {
   "cell_type": "code",
   "execution_count": 50,
   "id": "15358072-1fa5-4802-9c10-2ceaa1712eb1",
   "metadata": {},
   "outputs": [
    {
     "name": "stdout",
     "output_type": "stream",
     "text": [
      "True\n"
     ]
    }
   ],
   "source": [
    "print(isinstance(a,int))  ## Isinstance prints the true/false"
   ]
  },
  {
   "cell_type": "code",
   "execution_count": 54,
   "id": "84b8fae4-a0c5-4794-b4a9-8eddcdd433dc",
   "metadata": {},
   "outputs": [],
   "source": [
    "vala= 'hitesh sahu'"
   ]
  },
  {
   "cell_type": "code",
   "execution_count": 58,
   "id": "7ecdf5f5-e63f-4d3a-aa64-a573e68ce949",
   "metadata": {},
   "outputs": [
    {
     "name": "stdout",
     "output_type": "stream",
     "text": [
      "True hitesh sahu\n"
     ]
    }
   ],
   "source": [
    "print(isinstance(vala,str), vala)"
   ]
  },
  {
   "cell_type": "code",
   "execution_count": 60,
   "id": "60455a93-43d1-4621-97a0-d986d65b103a",
   "metadata": {},
   "outputs": [
    {
     "data": {
      "text/plain": [
       "32"
      ]
     },
     "execution_count": 60,
     "metadata": {},
     "output_type": "execute_result"
    }
   ],
   "source": [
    "sys.getsizeof(complex())"
   ]
  },
  {
   "cell_type": "code",
   "execution_count": 62,
   "id": "bb67a9fc-f497-40fd-8ed2-02c591dec294",
   "metadata": {},
   "outputs": [
    {
     "data": {
      "text/plain": [
       "28"
      ]
     },
     "execution_count": 62,
     "metadata": {},
     "output_type": "execute_result"
    }
   ],
   "source": [
    "sys.getsizeof(int())"
   ]
  },
  {
   "cell_type": "code",
   "execution_count": 64,
   "id": "01791813-6241-4853-9bbd-80baa1554a08",
   "metadata": {},
   "outputs": [
    {
     "name": "stdout",
     "output_type": "stream",
     "text": [
      "True False\n"
     ]
    }
   ],
   "source": [
    "bool1= True\n",
    "bool2= False\n",
    "print(bool1,bool2)"
   ]
  },
  {
   "cell_type": "code",
   "execution_count": 70,
   "id": "747f8802-e143-4802-ba40-d52da32c07f6",
   "metadata": {},
   "outputs": [
    {
     "name": "stdout",
     "output_type": "stream",
     "text": [
      "<class 'bool'>\n"
     ]
    }
   ],
   "source": [
    "print(type(bool1))"
   ]
  },
  {
   "cell_type": "code",
   "execution_count": 74,
   "id": "6610d501-c2cf-4cf7-8bd0-06ad0889a3b0",
   "metadata": {},
   "outputs": [
    {
     "data": {
      "text/plain": [
       "True"
      ]
     },
     "execution_count": 74,
     "metadata": {},
     "output_type": "execute_result"
    }
   ],
   "source": [
    "isinstance(bool1,bool)"
   ]
  },
  {
   "cell_type": "code",
   "execution_count": 76,
   "id": "f642275e-9894-4b5d-aed4-b583059874b2",
   "metadata": {},
   "outputs": [
    {
     "data": {
      "text/plain": [
       "False"
      ]
     },
     "execution_count": 76,
     "metadata": {},
     "output_type": "execute_result"
    }
   ],
   "source": [
    "bool(0)"
   ]
  },
  {
   "cell_type": "code",
   "execution_count": 85,
   "id": "f6dab389-84c1-4d7c-be85-1580122dea00",
   "metadata": {},
   "outputs": [
    {
     "data": {
      "text/plain": [
       "True"
      ]
     },
     "execution_count": 85,
     "metadata": {},
     "output_type": "execute_result"
    }
   ],
   "source": [
    "bool1 =='True' #validate"
   ]
  },
  {
   "cell_type": "code",
   "execution_count": 87,
   "id": "2af951b6-848d-4ffe-8d33-798e901b88df",
   "metadata": {},
   "outputs": [
    {
     "data": {
      "text/plain": [
       "False"
      ]
     },
     "execution_count": 87,
     "metadata": {},
     "output_type": "execute_result"
    }
   ],
   "source": [
    "bool2 =='True'"
   ]
  },
  {
   "cell_type": "code",
   "execution_count": 89,
   "id": "21416b8a-f5ff-44e4-8102-09691dbf5519",
   "metadata": {},
   "outputs": [],
   "source": [
    "Today= \"\"\"Hello World\"\"\""
   ]
  },
  {
   "cell_type": "code",
   "execution_count": 91,
   "id": "ddffb6cf-c152-4c34-8d71-51ce973004a6",
   "metadata": {},
   "outputs": [
    {
     "name": "stdout",
     "output_type": "stream",
     "text": [
      "Hello World\n"
     ]
    }
   ],
   "source": [
    "print(Today)"
   ]
  },
  {
   "cell_type": "code",
   "execution_count": 93,
   "id": "4d719bf9-b094-432d-a30e-c8926467ea68",
   "metadata": {},
   "outputs": [
    {
     "data": {
      "text/plain": [
       "'Hello WorldHello WorldHello WorldHello WorldHello World'"
      ]
     },
     "execution_count": 93,
     "metadata": {},
     "output_type": "execute_result"
    }
   ],
   "source": [
    "tomo= Today*5  #Multiplication of string\n",
    "tomo"
   ]
  },
  {
   "cell_type": "code",
   "execution_count": null,
   "id": "2cf5ded2-372b-4f4d-a854-ee95d93bc715",
   "metadata": {},
   "outputs": [],
   "source": []
  },
  {
   "cell_type": "code",
   "execution_count": 95,
   "id": "9218a51f-9ef1-4705-85dd-15b5b4bfc90d",
   "metadata": {},
   "outputs": [
    {
     "data": {
      "text/plain": [
       "'H'"
      ]
     },
     "execution_count": 95,
     "metadata": {},
     "output_type": "execute_result"
    }
   ],
   "source": [
    "Today[0]"
   ]
  },
  {
   "cell_type": "code",
   "execution_count": 105,
   "id": "641614f7-e375-46ae-add0-a129b5ecc8dc",
   "metadata": {},
   "outputs": [
    {
     "data": {
      "text/plain": [
       "'d'"
      ]
     },
     "execution_count": 105,
     "metadata": {},
     "output_type": "execute_result"
    }
   ],
   "source": [
    "Today[-1]"
   ]
  },
  {
   "cell_type": "code",
   "execution_count": 107,
   "id": "57b2f319-77cb-4139-8483-5f5210d559a3",
   "metadata": {},
   "outputs": [
    {
     "data": {
      "text/plain": [
       "'o'"
      ]
     },
     "execution_count": 107,
     "metadata": {},
     "output_type": "execute_result"
    }
   ],
   "source": [
    "Today[-4]"
   ]
  },
  {
   "cell_type": "code",
   "execution_count": 109,
   "id": "d72a8472-2b77-495f-a409-c171e8b22e87",
   "metadata": {},
   "outputs": [
    {
     "data": {
      "text/plain": [
       "'Hel'"
      ]
     },
     "execution_count": 109,
     "metadata": {},
     "output_type": "execute_result"
    }
   ],
   "source": [
    "Today[0:3]"
   ]
  },
  {
   "cell_type": "code",
   "execution_count": 111,
   "id": "9bb35d8c-42f2-484f-be6f-dec1e44737b5",
   "metadata": {},
   "outputs": [
    {
     "data": {
      "text/plain": [
       "'Hello World'"
      ]
     },
     "execution_count": 111,
     "metadata": {},
     "output_type": "execute_result"
    }
   ],
   "source": [
    "Today[::]"
   ]
  },
  {
   "cell_type": "code",
   "execution_count": 115,
   "id": "d7bfece1-614c-440e-81a6-4d87ee340253",
   "metadata": {},
   "outputs": [
    {
     "data": {
      "text/plain": [
       "'HlWl'"
      ]
     },
     "execution_count": 115,
     "metadata": {},
     "output_type": "execute_result"
    }
   ],
   "source": [
    "Today[::3]"
   ]
  },
  {
   "cell_type": "code",
   "execution_count": 117,
   "id": "99aa2a11-c882-4d18-84ca-5089c8ccb715",
   "metadata": {},
   "outputs": [
    {
     "data": {
      "text/plain": [
       "'Hello Wor'"
      ]
     },
     "execution_count": 117,
     "metadata": {},
     "output_type": "execute_result"
    }
   ],
   "source": [
    "Today[:-2]"
   ]
  },
  {
   "cell_type": "code",
   "execution_count": 121,
   "id": "b91f4f3a-691c-4658-aa24-7d298e1d853f",
   "metadata": {},
   "outputs": [
    {
     "ename": "NameError",
     "evalue": "name 'Today' is not defined",
     "output_type": "error",
     "traceback": [
      "\u001b[1;31m---------------------------------------------------------------------------\u001b[0m",
      "\u001b[1;31mNameError\u001b[0m                                 Traceback (most recent call last)",
      "Cell \u001b[1;32mIn[121], line 1\u001b[0m\n\u001b[1;32m----> 1\u001b[0m \u001b[38;5;28;01mdel\u001b[39;00m Today\n\u001b[0;32m      2\u001b[0m \u001b[38;5;28mprint\u001b[39m(\u001b[38;5;124m'\u001b[39m\u001b[38;5;124mToday\u001b[39m\u001b[38;5;124m'\u001b[39m)\n",
      "\u001b[1;31mNameError\u001b[0m: name 'Today' is not defined"
     ]
    }
   ],
   "source": [
    "del Today\n",
    "print('Today')"
   ]
  },
  {
   "cell_type": "code",
   "execution_count": 153,
   "id": "a25fa4c7-72a8-41db-948c-0105e8399ca4",
   "metadata": {},
   "outputs": [],
   "source": [
    "x= 'Hitesh'\n",
    "Y= 'Sahu'\n",
    "Z= x + ' '+ Y"
   ]
  },
  {
   "cell_type": "code",
   "execution_count": 155,
   "id": "231dc948-727c-4d07-9bec-151313dacb64",
   "metadata": {},
   "outputs": [
    {
     "name": "stdout",
     "output_type": "stream",
     "text": [
      "Hitesh Sahu\n"
     ]
    }
   ],
   "source": [
    "print(Z)"
   ]
  },
  {
   "cell_type": "code",
   "execution_count": null,
   "id": "10c723b7-417b-4686-a3ad-94108fbd6f13",
   "metadata": {},
   "outputs": [],
   "source": []
  },
  {
   "cell_type": "code",
   "execution_count": null,
   "id": "7ff341bb-e016-48ba-9ee6-ac944ec7b547",
   "metadata": {},
   "outputs": [],
   "source": []
  }
 ],
 "metadata": {
  "kernelspec": {
   "display_name": "Python [conda env:base] *",
   "language": "python",
   "name": "conda-base-py"
  },
  "language_info": {
   "codemirror_mode": {
    "name": "ipython",
    "version": 3
   },
   "file_extension": ".py",
   "mimetype": "text/x-python",
   "name": "python",
   "nbconvert_exporter": "python",
   "pygments_lexer": "ipython3",
   "version": "3.12.7"
  }
 },
 "nbformat": 4,
 "nbformat_minor": 5
}
