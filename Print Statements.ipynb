{
 "cells": [
  {
   "cell_type": "code",
   "execution_count": null,
   "id": "11cf4fcd-3cf2-41cc-b6b6-0e97ba05dac3",
   "metadata": {},
   "outputs": [],
   "source": [
    "#Print Statments"
   ]
  },
  {
   "cell_type": "code",
   "execution_count": 1,
   "id": "1fa601e6-94d6-426d-b41c-1256a89f9093",
   "metadata": {},
   "outputs": [
    {
     "name": "stdout",
     "output_type": "stream",
     "text": [
      "Hitesh Sahu\n"
     ]
    }
   ],
   "source": [
    "print('Hitesh Sahu')"
   ]
  },
  {
   "cell_type": "code",
   "execution_count": 3,
   "id": "d17f59b5-e0dc-4e7f-b9f5-d6e72fa0d87e",
   "metadata": {},
   "outputs": [
    {
     "name": "stdout",
     "output_type": "stream",
     "text": [
      "my name is Hitesh Sahu. I am learning Python. 2025\n"
     ]
    }
   ],
   "source": [
    "print('my name is Hitesh Sahu.', 'I am learning Python.', 2025)"
   ]
  },
  {
   "cell_type": "code",
   "execution_count": 5,
   "id": "e0d0e443-cf3e-4c88-a83d-f641c567d3b0",
   "metadata": {},
   "outputs": [],
   "source": [
    "city= 'Paris'\n",
    "food= 'pastry'"
   ]
  },
  {
   "cell_type": "code",
   "execution_count": 13,
   "id": "e6920996-2d9e-4dde-9564-0ca61e2eeded",
   "metadata": {},
   "outputs": [
    {
     "name": "stdout",
     "output_type": "stream",
     "text": [
      "I like Paris and love pastry there\n"
     ]
    }
   ],
   "source": [
    "print( 'I like', city, 'and love', food, 'there' )"
   ]
  },
  {
   "cell_type": "code",
   "execution_count": 21,
   "id": "c16dc567-40a8-4b7f-959a-00d76bb64d0f",
   "metadata": {},
   "outputs": [],
   "source": [
    "name= 'Python'\n",
    "age= 20\n",
    "belong= 'Mumbai'"
   ]
  },
  {
   "cell_type": "code",
   "execution_count": 23,
   "id": "f52e263a-56d4-4a53-a02e-091a139b376a",
   "metadata": {},
   "outputs": [
    {
     "name": "stdout",
     "output_type": "stream",
     "text": [
      "my name is Python my age is 20 i am from Mumbai\n"
     ]
    }
   ],
   "source": [
    "print('my name is', name, 'my age is', age, 'i am from', belong)"
   ]
  },
  {
   "cell_type": "code",
   "execution_count": 25,
   "id": "24b8c9f0-b28a-4549-b0b4-9531dba44110",
   "metadata": {},
   "outputs": [
    {
     "name": "stdout",
     "output_type": "stream",
     "text": [
      "my name isPython, my age is 20 i am fromMumbai\n"
     ]
    }
   ],
   "source": [
    "print('my name is{}, my age is {} i am from{}'.format(name,age,belong))  #.format to print"
   ]
  },
  {
   "cell_type": "code",
   "execution_count": 27,
   "id": "b814d9f5-3ead-4c2d-a8c5-4e0f732b58bb",
   "metadata": {},
   "outputs": [],
   "source": [
    "a1= 20.56\n",
    "a2=50.678\n",
    "a3=60.567"
   ]
  },
  {
   "cell_type": "code",
   "execution_count": 41,
   "id": "7fa3301f-70f8-40ff-a2e9-9a6339d6a56b",
   "metadata": {},
   "outputs": [],
   "source": [
    "avg= (a1+a2+a3)/3# Average "
   ]
  },
  {
   "cell_type": "code",
   "execution_count": 45,
   "id": "a85c61c6-3ae5-421e-a2dd-acbf19464587",
   "metadata": {},
   "outputs": [
    {
     "name": "stdout",
     "output_type": "stream",
     "text": [
      "the average of20,50,60 is 43.333333333333336\n"
     ]
    }
   ],
   "source": [
    "print('the average of{},{},{} is {}'.format(a1,a2,a3,avg))"
   ]
  },
  {
   "cell_type": "code",
   "execution_count": 51,
   "id": "398c3254-2a10-4c06-9168-a9a093bff793",
   "metadata": {},
   "outputs": [],
   "source": [
    "avg= round(a1+a2+a3)/3,2 # Average tp round two values"
   ]
  },
  {
   "cell_type": "code",
   "execution_count": 53,
   "id": "0480d1e7-c2f0-4f53-a8d8-15147b24e19b",
   "metadata": {},
   "outputs": [
    {
     "name": "stdout",
     "output_type": "stream",
     "text": [
      "the average of20,50,60 is (43.333333333333336, 2)\n"
     ]
    }
   ],
   "source": [
    "print('the average of{},{},{} is {}'.format(a1,a2,a3,avg))"
   ]
  },
  {
   "cell_type": "code",
   "execution_count": 59,
   "id": "fcb65ae8-872d-4c4a-8dc2-8548b9fc2654",
   "metadata": {},
   "outputs": [
    {
     "data": {
      "text/plain": [
       "100.2"
      ]
     },
     "execution_count": 59,
     "metadata": {},
     "output_type": "execute_result"
    }
   ],
   "source": [
    "round(100.200,2)"
   ]
  },
  {
   "cell_type": "code",
   "execution_count": 61,
   "id": "0ba46565-e9e2-4ebb-b638-6a369fcf69ea",
   "metadata": {},
   "outputs": [
    {
     "ename": "TypeError",
     "evalue": "type tuple doesn't define __round__ method",
     "output_type": "error",
     "traceback": [
      "\u001b[1;31m---------------------------------------------------------------------------\u001b[0m",
      "\u001b[1;31mTypeError\u001b[0m                                 Traceback (most recent call last)",
      "Cell \u001b[1;32mIn[61], line 1\u001b[0m\n\u001b[1;32m----> 1\u001b[0m \u001b[38;5;28mround\u001b[39m(avg,\u001b[38;5;241m2\u001b[39m)\n",
      "\u001b[1;31mTypeError\u001b[0m: type tuple doesn't define __round__ method"
     ]
    }
   ],
   "source": [
    "round(avg,2)"
   ]
  },
  {
   "cell_type": "code",
   "execution_count": 69,
   "id": "15ab7b57-9069-47d6-a611-5f2898210d4a",
   "metadata": {},
   "outputs": [
    {
     "name": "stdout",
     "output_type": "stream",
     "text": [
      "The addition of 10 and 20 is= 30\n",
      "The addition of 10 and 20 is= 30\n",
      "The addition of 10 and 20 is= 30\n"
     ]
    }
   ],
   "source": [
    "num1=10 \n",
    "num2=20\n",
    "add = num1+ num2\n",
    "print('The addition of',num1,'and',num2,'is=',add)\n",
    "print('The addition of {} and {} is= {}'.format(num1,num2,add))\n",
    "print(f'The addition of {num1} and {num2} is= {add}')"
   ]
  },
  {
   "cell_type": "code",
   "execution_count": 77,
   "id": "f3e34ebf-c09a-4b4c-9da7-c9b4f9a43723",
   "metadata": {},
   "outputs": [
    {
     "name": "stdout",
     "output_type": "stream",
     "text": [
      "Hello World! How are you doing?\n"
     ]
    }
   ],
   "source": [
    "print ('Hello World!', end=' ') # End Statement to print the second statment\n",
    "print('How are you doing?')"
   ]
  },
  {
   "cell_type": "code",
   "execution_count": null,
   "id": "007ab805-9b93-48d2-90b6-d81401170fb7",
   "metadata": {},
   "outputs": [],
   "source": [
    "##Separator"
   ]
  },
  {
   "cell_type": "code",
   "execution_count": 79,
   "id": "814d8c61-679d-4e0d-b28a-ca53e173cbc5",
   "metadata": {},
   "outputs": [
    {
     "name": "stdout",
     "output_type": "stream",
     "text": [
      "hello how are you all my name is jojo\n"
     ]
    }
   ],
   "source": [
    "print('hello', 'how are you all', 'my name is jojo', sep=' ')"
   ]
  },
  {
   "cell_type": "code",
   "execution_count": 81,
   "id": "e5c8d411-b9ab-4d98-883e-8e2e1be1802f",
   "metadata": {},
   "outputs": [
    {
     "name": "stdout",
     "output_type": "stream",
     "text": [
      "helloxoxo how are you allxoxo my name is jojo\n"
     ]
    }
   ],
   "source": [
    "print('hello', 'how are you all', 'my name is jojo', sep='xoxo ')"
   ]
  },
  {
   "cell_type": "code",
   "execution_count": 83,
   "id": "057df91a-0ee9-4407-861f-8e248c266cb1",
   "metadata": {},
   "outputs": [
    {
     "name": "stdout",
     "output_type": "stream",
     "text": [
      "45 .\n"
     ]
    }
   ],
   "source": [
    "print(45, '.') # . is away from 45"
   ]
  },
  {
   "cell_type": "code",
   "execution_count": 85,
   "id": "450efc8e-08ec-4cb5-92c0-57dae0176026",
   "metadata": {},
   "outputs": [
    {
     "name": "stdout",
     "output_type": "stream",
     "text": [
      "45.\n"
     ]
    }
   ],
   "source": [
    "print(45,'.',sep='') #Use seperator to bring the .closer"
   ]
  },
  {
   "cell_type": "code",
   "execution_count": null,
   "id": "66f268b8-20fc-49df-b981-322f8f0de35d",
   "metadata": {},
   "outputs": [],
   "source": []
  },
  {
   "cell_type": "code",
   "execution_count": null,
   "id": "2443e6a8-233b-4fe9-9e3d-3164c35b32ea",
   "metadata": {},
   "outputs": [],
   "source": []
  },
  {
   "cell_type": "code",
   "execution_count": null,
   "id": "4dd3e6c6-41dc-4732-acc3-0e2611c44f91",
   "metadata": {},
   "outputs": [],
   "source": []
  },
  {
   "cell_type": "code",
   "execution_count": null,
   "id": "cd4fbe45-9478-42a6-a8b4-1e86b53db9ee",
   "metadata": {},
   "outputs": [],
   "source": []
  },
  {
   "cell_type": "code",
   "execution_count": null,
   "id": "d42e04a0-2db4-481a-bff2-72a12e60411d",
   "metadata": {},
   "outputs": [],
   "source": []
  },
  {
   "cell_type": "code",
   "execution_count": null,
   "id": "0ae6e8a2-d592-40d6-98f2-a3265b7702ac",
   "metadata": {},
   "outputs": [],
   "source": []
  },
  {
   "cell_type": "code",
   "execution_count": null,
   "id": "14f955b6-e41a-4045-8c2b-9870d748666c",
   "metadata": {},
   "outputs": [],
   "source": []
  },
  {
   "cell_type": "code",
   "execution_count": null,
   "id": "8f4e9bd5-73cd-42a6-872a-98a13db260a9",
   "metadata": {},
   "outputs": [],
   "source": []
  },
  {
   "cell_type": "code",
   "execution_count": null,
   "id": "72ee1942-0dc7-4852-8188-d4fd6cf8450a",
   "metadata": {},
   "outputs": [],
   "source": []
  },
  {
   "cell_type": "code",
   "execution_count": null,
   "id": "d19f69bc-bab6-439e-b129-1bcc627364ab",
   "metadata": {},
   "outputs": [],
   "source": []
  },
  {
   "cell_type": "code",
   "execution_count": null,
   "id": "749ae91c-f052-4ddf-83c3-8fc3321ca40e",
   "metadata": {},
   "outputs": [],
   "source": []
  },
  {
   "cell_type": "code",
   "execution_count": null,
   "id": "cfaa81cf-7114-444f-a292-876a4954a1dc",
   "metadata": {},
   "outputs": [],
   "source": []
  },
  {
   "cell_type": "code",
   "execution_count": null,
   "id": "a4a83e83-eb26-431c-9418-292c78409a30",
   "metadata": {},
   "outputs": [],
   "source": []
  },
  {
   "cell_type": "code",
   "execution_count": null,
   "id": "1dbf366d-7663-4e54-be64-bf892b1e4cef",
   "metadata": {},
   "outputs": [],
   "source": []
  },
  {
   "cell_type": "code",
   "execution_count": null,
   "id": "6831d9a4-5d7f-4a6a-9099-1fed3681bdac",
   "metadata": {},
   "outputs": [],
   "source": []
  },
  {
   "cell_type": "code",
   "execution_count": null,
   "id": "19642fa3-6868-4c83-ab07-e4f2f2d44db3",
   "metadata": {},
   "outputs": [],
   "source": []
  },
  {
   "cell_type": "code",
   "execution_count": null,
   "id": "86715eea-9f72-44cb-94f5-8a8eb49044cf",
   "metadata": {},
   "outputs": [],
   "source": []
  }
 ],
 "metadata": {
  "kernelspec": {
   "display_name": "Python [conda env:base] *",
   "language": "python",
   "name": "conda-base-py"
  },
  "language_info": {
   "codemirror_mode": {
    "name": "ipython",
    "version": 3
   },
   "file_extension": ".py",
   "mimetype": "text/x-python",
   "name": "python",
   "nbconvert_exporter": "python",
   "pygments_lexer": "ipython3",
   "version": "3.12.7"
  }
 },
 "nbformat": 4,
 "nbformat_minor": 5
}
