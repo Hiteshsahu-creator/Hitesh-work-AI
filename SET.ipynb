{
 "cells": [
  {
   "cell_type": "code",
   "execution_count": null,
   "id": "1b7ded92-8224-4da7-a4c0-3bccce32b26e",
   "metadata": {},
   "outputs": [],
   "source": [
    "#SET "
   ]
  },
  {
   "cell_type": "markdown",
   "id": "0a7164dc-dc48-46bc-af94-a11e001f70ea",
   "metadata": {},
   "source": [
    "1) Unordered & Unindexed collection of items.\n",
    "2) Set elements are unique. Duplicate elements are not allowed.\n",
    "3) Set elements are immutable (cannot be changed).\n",
    "4) Set itself is mutable. We can add or remove items from it."
   ]
  },
  {
   "cell_type": "code",
   "execution_count": 1,
   "id": "51707083-7ecb-4107-9231-099a7a205a88",
   "metadata": {},
   "outputs": [
    {
     "data": {
      "text/plain": [
       "{10, 20, 30, 40, 50}"
      ]
     },
     "execution_count": 1,
     "metadata": {},
     "output_type": "execute_result"
    }
   ],
   "source": [
    "myset= {10,20,30,40,50}\n",
    "myset"
   ]
  },
  {
   "cell_type": "code",
   "execution_count": 3,
   "id": "a12241f9-589b-46c9-b652-5b2ca941ddda",
   "metadata": {},
   "outputs": [
    {
     "data": {
      "text/plain": [
       "5"
      ]
     },
     "execution_count": 3,
     "metadata": {},
     "output_type": "execute_result"
    }
   ],
   "source": [
    "len(myset)"
   ]
  },
  {
   "cell_type": "code",
   "execution_count": 7,
   "id": "a64b902a-143a-4585-9b03-b8d6f40cd86d",
   "metadata": {},
   "outputs": [
    {
     "data": {
      "text/plain": [
       "{1, 2, 3, 4, 5}"
      ]
     },
     "execution_count": 7,
     "metadata": {},
     "output_type": "execute_result"
    }
   ],
   "source": [
    "myset1= {1,1,2,3,4,4,4,5}\n",
    "myset1      #Duplicates are not allowed in SET"
   ]
  },
  {
   "cell_type": "code",
   "execution_count": 11,
   "id": "85f363d8-a517-4394-be2b-36a5fe4d9e94",
   "metadata": {},
   "outputs": [
    {
     "data": {
      "text/plain": [
       "{2.4, 3.5, 5.67, 9.87}"
      ]
     },
     "execution_count": 11,
     "metadata": {},
     "output_type": "execute_result"
    }
   ],
   "source": [
    "myset2= {2.4,3.5,5.67,9.87}\n",
    "myset2"
   ]
  },
  {
   "cell_type": "code",
   "execution_count": 17,
   "id": "427b5c58-ba6b-4164-be24-e77fdc2d4c78",
   "metadata": {},
   "outputs": [
    {
     "data": {
      "text/plain": [
       "set"
      ]
     },
     "execution_count": 17,
     "metadata": {},
     "output_type": "execute_result"
    }
   ],
   "source": [
    "type(myset2)"
   ]
  },
  {
   "cell_type": "code",
   "execution_count": null,
   "id": "ca3db6e0-1ec9-4f71-90d7-36133bf5ae24",
   "metadata": {},
   "outputs": [],
   "source": [
    "myset3={}"
   ]
  },
  {
   "cell_type": "code",
   "execution_count": 19,
   "id": "c15949f3-83f5-4be2-afca-a390d62c6411",
   "metadata": {},
   "outputs": [],
   "source": [
    "s= {}  #By default it is dict"
   ]
  },
  {
   "cell_type": "code",
   "execution_count": 21,
   "id": "6e60fcfe-0458-4f7f-a430-aea15c754661",
   "metadata": {},
   "outputs": [
    {
     "data": {
      "text/plain": [
       "dict"
      ]
     },
     "execution_count": 21,
     "metadata": {},
     "output_type": "execute_result"
    }
   ],
   "source": [
    "type(s)  "
   ]
  },
  {
   "cell_type": "code",
   "execution_count": 23,
   "id": "58c0c017-e0d9-4703-8541-3efa3f3c3716",
   "metadata": {},
   "outputs": [
    {
     "data": {
      "text/plain": [
       "()"
      ]
     },
     "execution_count": 23,
     "metadata": {},
     "output_type": "execute_result"
    }
   ],
   "source": [
    "s= ()\n",
    "s"
   ]
  },
  {
   "cell_type": "code",
   "execution_count": 25,
   "id": "632927c4-0389-4eec-be7c-b72ded560a10",
   "metadata": {},
   "outputs": [
    {
     "data": {
      "text/plain": [
       "tuple"
      ]
     },
     "execution_count": 25,
     "metadata": {},
     "output_type": "execute_result"
    }
   ],
   "source": [
    "type(s)"
   ]
  },
  {
   "cell_type": "code",
   "execution_count": 27,
   "id": "a2684db6-9cf4-419b-98aa-03498b3df757",
   "metadata": {},
   "outputs": [
    {
     "data": {
      "text/plain": [
       "set()"
      ]
     },
     "execution_count": 27,
     "metadata": {},
     "output_type": "execute_result"
    }
   ],
   "source": [
    "s1= set() # Empty set\n",
    "s1"
   ]
  },
  {
   "cell_type": "code",
   "execution_count": 31,
   "id": "5daecb49-4eb1-4d46-9e21-9d4fc35ec04c",
   "metadata": {},
   "outputs": [
    {
     "data": {
      "text/plain": [
       "set"
      ]
     },
     "execution_count": 31,
     "metadata": {},
     "output_type": "execute_result"
    }
   ],
   "source": [
    "type(s1)"
   ]
  },
  {
   "cell_type": "code",
   "execution_count": 33,
   "id": "a017176a-7422-4231-ae13-1df93f09b3a3",
   "metadata": {},
   "outputs": [
    {
     "data": {
      "text/plain": [
       "{'Hi', 'asta', 'bye', 'ciao'}"
      ]
     },
     "execution_count": 33,
     "metadata": {},
     "output_type": "execute_result"
    }
   ],
   "source": [
    "myset3= {'Hi', 'bye', 'ciao', 'asta'}  #string\n",
    "myset3"
   ]
  },
  {
   "cell_type": "code",
   "execution_count": 35,
   "id": "2da25e0b-0940-493b-8ef6-1ee4a46cb85a",
   "metadata": {},
   "outputs": [
    {
     "data": {
      "text/plain": [
       "{10, 30, 40, 50, 87, 90, 98}"
      ]
     },
     "execution_count": 35,
     "metadata": {},
     "output_type": "execute_result"
    }
   ],
   "source": [
    "myset4= {90,87,98,40,30,10,50}   #SET does sorting asc for numeric value\n",
    "myset4"
   ]
  },
  {
   "cell_type": "code",
   "execution_count": 37,
   "id": "3ca95526-8756-4e29-b03a-8881e4e1a6ab",
   "metadata": {},
   "outputs": [
    {
     "data": {
      "text/plain": [
       "{(10, 20), 10, 3.5, 30, 4.9, 'harry'}"
      ]
     },
     "execution_count": 37,
     "metadata": {},
     "output_type": "execute_result"
    }
   ],
   "source": [
    "myset5= {10,30,3.5,4.9, 'harry', (10,20)} #Mixed data type with nested loop\n",
    "myset5"
   ]
  },
  {
   "cell_type": "code",
   "execution_count": 39,
   "id": "3033bcec-eb44-4015-90a2-d883123c7d23",
   "metadata": {},
   "outputs": [
    {
     "data": {
      "text/plain": [
       "{(10, 20), 10, 200, 3.5, 30, 4.9, 'harry'}"
      ]
     },
     "execution_count": 39,
     "metadata": {},
     "output_type": "execute_result"
    }
   ],
   "source": [
    "myset5.add(200)   #add 200 to list \n",
    "myset5"
   ]
  },
  {
   "cell_type": "code",
   "execution_count": 41,
   "id": "a57ba807-47f7-4482-9e4b-2eb4ccd28d10",
   "metadata": {},
   "outputs": [
    {
     "data": {
      "text/plain": [
       "{(10, 20), 10, 200, 3.5, 30, 4.9, 'harry'}"
      ]
     },
     "execution_count": 41,
     "metadata": {},
     "output_type": "execute_result"
    }
   ],
   "source": [
    "myset5.add(200)  #Duplicates are not allowed\n",
    "myset5"
   ]
  },
  {
   "cell_type": "code",
   "execution_count": 43,
   "id": "b2af23c8-d0e8-4243-bd93-3fb19718a684",
   "metadata": {},
   "outputs": [
    {
     "data": {
      "text/plain": [
       "{(10, 20), 10, 200, 3.5, 30, 4.9, 'harry'}"
      ]
     },
     "execution_count": 43,
     "metadata": {},
     "output_type": "execute_result"
    }
   ],
   "source": [
    "myset6= myset5.copy()   #Copy\n",
    "myset6"
   ]
  },
  {
   "cell_type": "code",
   "execution_count": 45,
   "id": "97b799dd-461d-4671-aab6-51b289221664",
   "metadata": {},
   "outputs": [
    {
     "data": {
      "text/plain": [
       "set()"
      ]
     },
     "execution_count": 45,
     "metadata": {},
     "output_type": "execute_result"
    }
   ],
   "source": [
    "myset6.clear()  # Clear the set list\n",
    "myset6"
   ]
  },
  {
   "cell_type": "code",
   "execution_count": 53,
   "id": "ef57a192-0fdf-4aa8-bb01-ac06f7acf488",
   "metadata": {},
   "outputs": [
    {
     "ename": "TypeError",
     "evalue": "'set' object is not subscriptable",
     "output_type": "error",
     "traceback": [
      "\u001b[1;31m---------------------------------------------------------------------------\u001b[0m",
      "\u001b[1;31mTypeError\u001b[0m                                 Traceback (most recent call last)",
      "Cell \u001b[1;32mIn[53], line 1\u001b[0m\n\u001b[1;32m----> 1\u001b[0m myset5[\u001b[38;5;241m0\u001b[39m]\n",
      "\u001b[1;31mTypeError\u001b[0m: 'set' object is not subscriptable"
     ]
    }
   ],
   "source": [
    "myset5[0] ## Indexing and slicing not allowed in SET"
   ]
  },
  {
   "cell_type": "code",
   "execution_count": 55,
   "id": "1122967d-ee7b-4f68-b737-e2c341aa6d80",
   "metadata": {},
   "outputs": [
    {
     "data": {
      "text/plain": [
       "{(10, 20), 10, 200, 30, 4.9, 'harry'}"
      ]
     },
     "execution_count": 55,
     "metadata": {},
     "output_type": "execute_result"
    }
   ],
   "source": [
    "myset5.pop()  #Set pop removes random element without any index value\n",
    "myset5"
   ]
  },
  {
   "cell_type": "code",
   "execution_count": 57,
   "id": "c140c711-df4b-4045-9d27-49c23525af25",
   "metadata": {},
   "outputs": [
    {
     "data": {
      "text/plain": [
       "{(10, 20), 200, 30, 4.9, 'harry'}"
      ]
     },
     "execution_count": 57,
     "metadata": {},
     "output_type": "execute_result"
    }
   ],
   "source": [
    "myset5.discard(10)  #delete the 10 without defining index as indexing is not allowed in SET # Discard function never throws the error even if the element is not there in the SET\n",
    "myset5"
   ]
  },
  {
   "cell_type": "code",
   "execution_count": 63,
   "id": "17910cd1-48de-44dd-bfc3-a7bb0f3b4837",
   "metadata": {},
   "outputs": [
    {
     "data": {
      "text/plain": [
       "{(10, 20), 30, 4.9, 'harry'}"
      ]
     },
     "execution_count": 63,
     "metadata": {},
     "output_type": "execute_result"
    }
   ],
   "source": [
    "myset5.discard(1000)  #No error \n",
    "myset5"
   ]
  },
  {
   "cell_type": "code",
   "execution_count": 61,
   "id": "e4c8a8fe-4111-4cc6-8bff-4cca5c573682",
   "metadata": {},
   "outputs": [
    {
     "data": {
      "text/plain": [
       "{(10, 20), 30, 4.9, 'harry'}"
      ]
     },
     "execution_count": 61,
     "metadata": {},
     "output_type": "execute_result"
    }
   ],
   "source": [
    "myset5.remove(200)  #removed the 200 from the set # \n",
    "myset5"
   ]
  },
  {
   "cell_type": "code",
   "execution_count": 65,
   "id": "3f6c06b5-2596-4ce5-92fc-b5ece32c6f79",
   "metadata": {},
   "outputs": [
    {
     "name": "stdout",
     "output_type": "stream",
     "text": [
      "4.9\n",
      "harry\n",
      "30\n",
      "(10, 20)\n"
     ]
    }
   ],
   "source": [
    "for i in myset5:\n",
    "    print(i)"
   ]
  },
  {
   "cell_type": "code",
   "execution_count": 67,
   "id": "f0b2e10d-7bd6-47ea-ab8c-5e48ccf0cc06",
   "metadata": {},
   "outputs": [
    {
     "name": "stdout",
     "output_type": "stream",
     "text": [
      "(0, 4.9)\n",
      "(1, 'harry')\n",
      "(2, 30)\n",
      "(3, (10, 20))\n"
     ]
    }
   ],
   "source": [
    "for i in enumerate(myset5):\n",
    "    print(i)"
   ]
  },
  {
   "cell_type": "code",
   "execution_count": 69,
   "id": "9beefe19-12d2-43c2-8457-df49bb045f6a",
   "metadata": {},
   "outputs": [
    {
     "data": {
      "text/plain": [
       "False"
      ]
     },
     "execution_count": 69,
     "metadata": {},
     "output_type": "execute_result"
    }
   ],
   "source": [
    "10 in myset5"
   ]
  },
  {
   "cell_type": "code",
   "execution_count": 87,
   "id": "187f6128-4a0c-43df-807b-e061ab6cb9ac",
   "metadata": {},
   "outputs": [
    {
     "name": "stdout",
     "output_type": "stream",
     "text": [
      "ten is not present in the set\n"
     ]
    }
   ],
   "source": [
    "if 10 in myset5:\n",
    "    print('ten is present in set')\n",
    "else:\n",
    "    print('ten is not present in the set')"
   ]
  },
  {
   "cell_type": "code",
   "execution_count": 89,
   "id": "4f5da9f8-d6c8-4ffd-b9f1-a8f08b2d50df",
   "metadata": {},
   "outputs": [
    {
     "data": {
      "text/plain": [
       "{(10, 20), 1000, 30, 4.9, 'harry'}"
      ]
     },
     "execution_count": 89,
     "metadata": {},
     "output_type": "execute_result"
    }
   ],
   "source": [
    "myset5.add(1000)\n",
    "myset5"
   ]
  },
  {
   "cell_type": "code",
   "execution_count": 91,
   "id": "3d3a11a6-f059-4895-b127-c2479dd08f40",
   "metadata": {},
   "outputs": [
    {
     "data": {
      "text/plain": [
       "{(10, 20), 1000, 23, 30, 4.9, 43, 77, 'harry', 'sahu'}"
      ]
     },
     "execution_count": 91,
     "metadata": {},
     "output_type": "execute_result"
    }
   ],
   "source": [
    "myset5.update([23,43,77,'sahu']) # Add multiple elements in the list. \n",
    "myset5"
   ]
  },
  {
   "cell_type": "code",
   "execution_count": 93,
   "id": "f80d327f-9b01-4e3d-a25d-d2ceab7a3a1b",
   "metadata": {},
   "outputs": [
    {
     "data": {
      "text/plain": [
       "{(10, 20), 1000, 30, 4.9, 43, 77, 'harry', 'sahu'}"
      ]
     },
     "execution_count": 93,
     "metadata": {},
     "output_type": "execute_result"
    }
   ],
   "source": [
    "myset5.remove(23)\n",
    "myset5"
   ]
  },
  {
   "cell_type": "code",
   "execution_count": 95,
   "id": "09966dec-e428-40ac-8c2d-40f4e35089a2",
   "metadata": {},
   "outputs": [
    {
     "ename": "NameError",
     "evalue": "name 'myset3' is not defined",
     "output_type": "error",
     "traceback": [
      "\u001b[1;31m---------------------------------------------------------------------------\u001b[0m",
      "\u001b[1;31mNameError\u001b[0m                                 Traceback (most recent call last)",
      "Cell \u001b[1;32mIn[95], line 2\u001b[0m\n\u001b[0;32m      1\u001b[0m \u001b[38;5;28;01mdel\u001b[39;00m myset3\n\u001b[1;32m----> 2\u001b[0m myset3\n",
      "\u001b[1;31mNameError\u001b[0m: name 'myset3' is not defined"
     ]
    }
   ],
   "source": [
    "del myset3  #Delete is not alllwoed\n",
    "myset3"
   ]
  },
  {
   "cell_type": "code",
   "execution_count": 99,
   "id": "fdfc558d-d16e-4647-995d-108ea49c7454",
   "metadata": {},
   "outputs": [
    {
     "data": {
      "text/plain": [
       "{(10, 20), 1000, 30, 4.9, 43, 77, 'harry', 'sahu'}"
      ]
     },
     "execution_count": 99,
     "metadata": {},
     "output_type": "execute_result"
    }
   ],
   "source": [
    "myset6= myset5.copy()\n",
    "myset6"
   ]
  },
  {
   "cell_type": "code",
   "execution_count": 101,
   "id": "cb6fb8aa-e719-4652-a334-f5ac17d4ea89",
   "metadata": {},
   "outputs": [
    {
     "data": {
      "text/plain": [
       "{(10, 20), 1000, 30, 4.9, 43, 56, 77, 'harry', 'sahu'}"
      ]
     },
     "execution_count": 101,
     "metadata": {},
     "output_type": "execute_result"
    }
   ],
   "source": [
    "myset6.add(56)\n",
    "myset6"
   ]
  },
  {
   "cell_type": "code",
   "execution_count": 103,
   "id": "46cead76-f394-48a1-9621-f5b62ed2197f",
   "metadata": {},
   "outputs": [
    {
     "name": "stdout",
     "output_type": "stream",
     "text": [
      "{4.9, 1000, 43, 'harry', 77, (10, 20), 'sahu', 30}\n"
     ]
    }
   ],
   "source": [
    "print(myset5)"
   ]
  },
  {
   "cell_type": "code",
   "execution_count": 107,
   "id": "9f85d7f0-fdf1-4125-9a2b-bcf184fd43da",
   "metadata": {},
   "outputs": [
    {
     "data": {
      "text/plain": [
       "set()"
      ]
     },
     "execution_count": 107,
     "metadata": {},
     "output_type": "execute_result"
    }
   ],
   "source": [
    "myset7 = set()\n",
    "myset7"
   ]
  },
  {
   "cell_type": "code",
   "execution_count": 117,
   "id": "8c3825d9-3ee0-4221-9ed5-666f5c80bbfe",
   "metadata": {},
   "outputs": [],
   "source": [
    "myset7= myset5 # Reference List"
   ]
  },
  {
   "cell_type": "code",
   "execution_count": 119,
   "id": "77a822de-edfe-42e7-8f09-445fdab8467c",
   "metadata": {},
   "outputs": [
    {
     "name": "stdout",
     "output_type": "stream",
     "text": [
      "{4.9, 1000, 43, 'harry', 77, (10, 20), 'sahu', 30}\n"
     ]
    }
   ],
   "source": [
    "print(myset7)"
   ]
  },
  {
   "cell_type": "code",
   "execution_count": 123,
   "id": "164b013e-fc2c-4ab8-9f82-04e3a599fab4",
   "metadata": {},
   "outputs": [
    {
     "data": {
      "text/plain": [
       "(2296950728832, 2296950728832)"
      ]
     },
     "execution_count": 123,
     "metadata": {},
     "output_type": "execute_result"
    }
   ],
   "source": [
    "id(myset5), id(myset7)"
   ]
  },
  {
   "cell_type": "code",
   "execution_count": 127,
   "id": "0b90075f-8960-448c-b2a5-5932028b88b7",
   "metadata": {},
   "outputs": [
    {
     "data": {
      "text/plain": [
       "{(10, 20), 1000, 29, 30, 4.9, 43, 77, 'harry', 'sahu'}"
      ]
     },
     "execution_count": 127,
     "metadata": {},
     "output_type": "execute_result"
    }
   ],
   "source": [
    "myset7.add(29)\n",
    "myset7"
   ]
  },
  {
   "cell_type": "code",
   "execution_count": 129,
   "id": "fa885b8c-e623-43bd-80a1-47a2bd17663e",
   "metadata": {},
   "outputs": [
    {
     "name": "stdout",
     "output_type": "stream",
     "text": [
      "{4.9, 1000, 43, 'harry', 77, (10, 20), 'sahu', 29, 30}\n"
     ]
    }
   ],
   "source": [
    "print(myset5)"
   ]
  },
  {
   "cell_type": "code",
   "execution_count": 133,
   "id": "a39cc3eb-e37f-47f3-8c7e-36c98bc1b2f6",
   "metadata": {},
   "outputs": [
    {
     "data": {
      "text/plain": [
       "{(10, 20), 1000, 29, 30, 4.9, 43, 77, 'harry', 'sahu'}"
      ]
     },
     "execution_count": 133,
     "metadata": {},
     "output_type": "execute_result"
    }
   ],
   "source": [
    "myset6|myset5     #Union\n",
    " "
   ]
  },
  {
   "cell_type": "code",
   "execution_count": 135,
   "id": "494b0de1-b965-4577-9aba-a7383d3a6d64",
   "metadata": {},
   "outputs": [],
   "source": [
    "a= {1,2,3,4,5}\n",
    "b= {4,5,6,7,8}\n",
    "c= {6,7,8,9,20}"
   ]
  },
  {
   "cell_type": "code",
   "execution_count": 137,
   "id": "b29e7aa1-f708-4a03-a11e-8f17595ee4b3",
   "metadata": {},
   "outputs": [
    {
     "data": {
      "text/plain": [
       "{1, 2, 3, 4, 5, 6, 7, 8}"
      ]
     },
     "execution_count": 137,
     "metadata": {},
     "output_type": "execute_result"
    }
   ],
   "source": [
    "a|b    #Union does not repeat the value"
   ]
  },
  {
   "cell_type": "code",
   "execution_count": 139,
   "id": "e43ecaa7-76d1-468b-bf75-0c9bf8cdce22",
   "metadata": {},
   "outputs": [
    {
     "data": {
      "text/plain": [
       "{1, 2, 3, 4, 5, 6, 7, 8}"
      ]
     },
     "execution_count": 139,
     "metadata": {},
     "output_type": "execute_result"
    }
   ],
   "source": [
    "a.union(b)"
   ]
  },
  {
   "cell_type": "code",
   "execution_count": 141,
   "id": "32e0380c-0f10-4321-bf49-ec7752b2c794",
   "metadata": {},
   "outputs": [
    {
     "data": {
      "text/plain": [
       "{1, 2, 3, 4, 5, 6, 7, 8, 9, 20}"
      ]
     },
     "execution_count": 141,
     "metadata": {},
     "output_type": "execute_result"
    }
   ],
   "source": [
    "a.union(b,c)"
   ]
  },
  {
   "cell_type": "code",
   "execution_count": 143,
   "id": "0de2e7f6-545e-4a7f-8bb3-62c3b28636ec",
   "metadata": {},
   "outputs": [
    {
     "data": {
      "text/plain": [
       "{4, 5}"
      ]
     },
     "execution_count": 143,
     "metadata": {},
     "output_type": "execute_result"
    }
   ],
   "source": [
    "a&b  #Intersection shows common value in both a and b"
   ]
  },
  {
   "cell_type": "code",
   "execution_count": 145,
   "id": "43a95f8f-daba-4e5b-a38d-254ed9fb041a",
   "metadata": {},
   "outputs": [
    {
     "data": {
      "text/plain": [
       "{1, 2, 3}"
      ]
     },
     "execution_count": 145,
     "metadata": {},
     "output_type": "execute_result"
    }
   ],
   "source": [
    "a-b  # Difference- set of elements that are only in A but not in B"
   ]
  },
  {
   "cell_type": "code",
   "execution_count": 147,
   "id": "381dd17b-a637-4265-a55c-02c92a720dc7",
   "metadata": {},
   "outputs": [
    {
     "data": {
      "text/plain": [
       "{6, 7, 8}"
      ]
     },
     "execution_count": 147,
     "metadata": {},
     "output_type": "execute_result"
    }
   ],
   "source": [
    "b-a # Difference- set of elements that are only in b but not in a"
   ]
  },
  {
   "cell_type": "code",
   "execution_count": 149,
   "id": "f1e2e208-13e2-490d-aec1-e27f136ae6cf",
   "metadata": {},
   "outputs": [
    {
     "data": {
      "text/plain": [
       "{1, 2, 3, 6, 7, 8}"
      ]
     },
     "execution_count": 149,
     "metadata": {},
     "output_type": "execute_result"
    }
   ],
   "source": [
    "a^b #Symmetric difference (Set of elements in A and B but not in both. Exclusive"
   ]
  },
  {
   "cell_type": "code",
   "execution_count": 153,
   "id": "78340e5d-729b-4eb0-bc8a-8394d82dea6e",
   "metadata": {},
   "outputs": [
    {
     "data": {
      "text/plain": [
       "{4, 5, 9, 20}"
      ]
     },
     "execution_count": 153,
     "metadata": {},
     "output_type": "execute_result"
    }
   ],
   "source": [
    "b^c"
   ]
  },
  {
   "cell_type": "code",
   "execution_count": 170,
   "id": "ac1c3f04-bd22-42ab-9710-68cdef161984",
   "metadata": {},
   "outputs": [],
   "source": [
    "d= {1,2,3,4,5,6,7}\n",
    "e= {4,5,6,7}\n",
    "f={8,9,10,11,12}"
   ]
  },
  {
   "cell_type": "code",
   "execution_count": 161,
   "id": "4bc4c4c2-3ba0-46c2-bef1-27219599874b",
   "metadata": {},
   "outputs": [
    {
     "data": {
      "text/plain": [
       "True"
      ]
     },
     "execution_count": 161,
     "metadata": {},
     "output_type": "execute_result"
    }
   ],
   "source": [
    "e.issubset(d)  #Issubset- e is said to be the subset of set d if all elements of e are present in d"
   ]
  },
  {
   "cell_type": "code",
   "execution_count": 163,
   "id": "f5580c01-55d1-4877-b2a2-5fe339e9e096",
   "metadata": {},
   "outputs": [
    {
     "data": {
      "text/plain": [
       "True"
      ]
     },
     "execution_count": 163,
     "metadata": {},
     "output_type": "execute_result"
    }
   ],
   "source": [
    "d.issuperset(e) #Superset- d is said to be the superset of set e if all elements of e are present in d"
   ]
  },
  {
   "cell_type": "code",
   "execution_count": 176,
   "id": "c77159c7-bdf3-4b38-9759-67d0d76690be",
   "metadata": {},
   "outputs": [
    {
     "data": {
      "text/plain": [
       "False"
      ]
     },
     "execution_count": 176,
     "metadata": {},
     "output_type": "execute_result"
    }
   ],
   "source": [
    "d.issubset(f)"
   ]
  },
  {
   "cell_type": "code",
   "execution_count": 180,
   "id": "d264e83e-ddb1-4897-98bd-469a250abe78",
   "metadata": {},
   "outputs": [
    {
     "data": {
      "text/plain": [
       "True"
      ]
     },
     "execution_count": 180,
     "metadata": {},
     "output_type": "execute_result"
    }
   ],
   "source": [
    "d.isdisjoint(f) #disjoin- both d and f do not have any common elements"
   ]
  },
  {
   "cell_type": "code",
   "execution_count": 182,
   "id": "107b588d-e090-4d3c-9063-4f67e681e254",
   "metadata": {},
   "outputs": [
    {
     "data": {
      "text/plain": [
       "28"
      ]
     },
     "execution_count": 182,
     "metadata": {},
     "output_type": "execute_result"
    }
   ],
   "source": [
    "sum(d)"
   ]
  },
  {
   "cell_type": "code",
   "execution_count": 184,
   "id": "4ccf78ce-1c72-44b7-ac6c-c40bfdb5c2cc",
   "metadata": {},
   "outputs": [
    {
     "data": {
      "text/plain": [
       "7"
      ]
     },
     "execution_count": 184,
     "metadata": {},
     "output_type": "execute_result"
    }
   ],
   "source": [
    "max(d)"
   ]
  },
  {
   "cell_type": "code",
   "execution_count": 188,
   "id": "fbab6f38-7462-4f2b-9fd1-96619ca762c2",
   "metadata": {},
   "outputs": [
    {
     "data": {
      "text/plain": [
       "1"
      ]
     },
     "execution_count": 188,
     "metadata": {},
     "output_type": "execute_result"
    }
   ],
   "source": [
    "min(d)"
   ]
  },
  {
   "cell_type": "code",
   "execution_count": 190,
   "id": "da554a15-d762-4192-8feb-2fe9b17196f2",
   "metadata": {},
   "outputs": [
    {
     "data": {
      "text/plain": [
       "7"
      ]
     },
     "execution_count": 190,
     "metadata": {},
     "output_type": "execute_result"
    }
   ],
   "source": [
    "len(d)"
   ]
  },
  {
   "cell_type": "code",
   "execution_count": 192,
   "id": "8b3a7871-bb17-49bb-ba17-8888b79e2dd4",
   "metadata": {},
   "outputs": [
    {
     "data": {
      "text/plain": [
       "[(0, 1), (1, 2), (2, 3), (3, 4), (4, 5), (5, 6), (6, 7)]"
      ]
     },
     "execution_count": 192,
     "metadata": {},
     "output_type": "execute_result"
    }
   ],
   "source": [
    "list(enumerate(d))"
   ]
  },
  {
   "cell_type": "raw",
   "id": "83bb43c9-cac9-41d0-a176-3784229db04e",
   "metadata": {},
   "source": []
  },
  {
   "cell_type": "code",
   "execution_count": 198,
   "id": "5819e285-fc35-435b-b594-06f4ba85e931",
   "metadata": {},
   "outputs": [
    {
     "data": {
      "text/plain": [
       "[1, 2, 3, 4, 5, 6, 7]"
      ]
     },
     "execution_count": 198,
     "metadata": {},
     "output_type": "execute_result"
    }
   ],
   "source": [
    "sorted(d)"
   ]
  },
  {
   "cell_type": "code",
   "execution_count": 210,
   "id": "0929ff7f-d4a6-4030-9fa7-8f96d686a46d",
   "metadata": {},
   "outputs": [
    {
     "data": {
      "text/plain": [
       "[7, 6, 5, 4, 3, 2, 1]"
      ]
     },
     "execution_count": 210,
     "metadata": {},
     "output_type": "execute_result"
    }
   ],
   "source": [
    "j= sorted(d,reverse=True)\n",
    "j"
   ]
  },
  {
   "cell_type": "code",
   "execution_count": null,
   "id": "8e4c923e-911c-45a8-8ec9-8f4ba8012f08",
   "metadata": {},
   "outputs": [],
   "source": []
  },
  {
   "cell_type": "code",
   "execution_count": null,
   "id": "827528fa-aa1c-43a7-a4dd-8a7323320c24",
   "metadata": {},
   "outputs": [],
   "source": []
  },
  {
   "cell_type": "code",
   "execution_count": null,
   "id": "afd75b6f-90d8-4c2a-b70f-6b4ac6201d52",
   "metadata": {},
   "outputs": [],
   "source": []
  },
  {
   "cell_type": "code",
   "execution_count": null,
   "id": "21233997-5d6f-4767-975f-62d3b907c78c",
   "metadata": {},
   "outputs": [],
   "source": []
  },
  {
   "cell_type": "code",
   "execution_count": null,
   "id": "009f8d72-0b6a-4460-b7fa-c0570aafce9d",
   "metadata": {},
   "outputs": [],
   "source": []
  },
  {
   "cell_type": "code",
   "execution_count": null,
   "id": "32aa6043-37ad-413f-b5c2-5045eb8d250a",
   "metadata": {},
   "outputs": [],
   "source": []
  }
 ],
 "metadata": {
  "kernelspec": {
   "display_name": "Python [conda env:base] *",
   "language": "python",
   "name": "conda-base-py"
  },
  "language_info": {
   "codemirror_mode": {
    "name": "ipython",
    "version": 3
   },
   "file_extension": ".py",
   "mimetype": "text/x-python",
   "name": "python",
   "nbconvert_exporter": "python",
   "pygments_lexer": "ipython3",
   "version": "3.12.7"
  }
 },
 "nbformat": 4,
 "nbformat_minor": 5
}
