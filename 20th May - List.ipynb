{
 "cells": [
  {
   "cell_type": "markdown",
   "id": "3c60c704-1804-44f2-9093-ca702209e117",
   "metadata": {},
   "source": [
    "20th May- List "
   ]
  },
  {
   "cell_type": "code",
   "execution_count": 3,
   "id": "aa2cf1f7-ae9a-4aba-b838-fac0e3fc85f0",
   "metadata": {},
   "outputs": [],
   "source": [
    "txt= '    hh hjjh hj uuhh '  # Strip to remove the space"
   ]
  },
  {
   "cell_type": "code",
   "execution_count": 5,
   "id": "0c694d44-090c-4425-bd78-acdaee5b298f",
   "metadata": {},
   "outputs": [
    {
     "data": {
      "text/plain": [
       "'hh hjjh hj uuhh '"
      ]
     },
     "execution_count": 5,
     "metadata": {},
     "output_type": "execute_result"
    }
   ],
   "source": [
    "txt.lstrip()"
   ]
  },
  {
   "cell_type": "code",
   "execution_count": null,
   "id": "85efdf09-1f3d-4532-bd7c-cbd38059848e",
   "metadata": {},
   "outputs": [],
   "source": [
    "txt1= ' hhoidsp ohcidspk hjkojpoj'"
   ]
  },
  {
   "cell_type": "code",
   "execution_count": 7,
   "id": "d4007e6d-4b6e-4777-bdfe-261bd3ac51cf",
   "metadata": {},
   "outputs": [
    {
     "data": {
      "text/plain": [
       "'hh hjjh hj uuhh '"
      ]
     },
     "execution_count": 7,
     "metadata": {},
     "output_type": "execute_result"
    }
   ],
   "source": [
    "txt.lstrip()"
   ]
  },
  {
   "cell_type": "code",
   "execution_count": 9,
   "id": "8f5deb08-7149-4dfb-a493-1a1e2618bcc9",
   "metadata": {},
   "outputs": [
    {
     "ename": "SyntaxError",
     "evalue": "invalid syntax (252462788.py, line 1)",
     "output_type": "error",
     "traceback": [
      "\u001b[1;36m  Cell \u001b[1;32mIn[9], line 1\u001b[1;36m\u001b[0m\n\u001b[1;33m    Movie= \"my favourite movies is \"Mission Impossible\"\"\u001b[0m\n\u001b[1;37m                                    ^\u001b[0m\n\u001b[1;31mSyntaxError\u001b[0m\u001b[1;31m:\u001b[0m invalid syntax\n"
     ]
    }
   ],
   "source": [
    "Movie= \"my favourite movies is \"Mission Impossible\"\"  #Double quote in string is not allowed"
   ]
  },
  {
   "cell_type": "code",
   "execution_count": 15,
   "id": "61e003bd-3134-4ad9-8b13-bb4cbf75d9e4",
   "metadata": {},
   "outputs": [],
   "source": [
    "Movie= \"My favourite movies is \\\"Mission Impossible\\'\"   #Escape characters are used to allow ilegal charachters in a string"
   ]
  },
  {
   "cell_type": "code",
   "execution_count": 17,
   "id": "64689cab-c054-4af3-8309-a39cd153575b",
   "metadata": {},
   "outputs": [
    {
     "name": "stdout",
     "output_type": "stream",
     "text": [
      "My favourite movies is \"Mission Impossible'\n"
     ]
    }
   ],
   "source": [
    "print(Movie)"
   ]
  },
  {
   "cell_type": "code",
   "execution_count": 1,
   "id": "fa953293-03b0-493b-8c27-6ef56a56f07f",
   "metadata": {},
   "outputs": [],
   "source": [
    "list1= []"
   ]
  },
  {
   "cell_type": "code",
   "execution_count": 3,
   "id": "97bb4714-8176-4e4a-be94-21d5547cf89e",
   "metadata": {},
   "outputs": [
    {
     "name": "stdout",
     "output_type": "stream",
     "text": [
      "<class 'list'>\n"
     ]
    }
   ],
   "source": [
    "print(type(list1))"
   ]
  },
  {
   "cell_type": "code",
   "execution_count": 5,
   "id": "61e13e36-2c10-415a-ad19-629546f69476",
   "metadata": {},
   "outputs": [],
   "source": [
    "list2= [10,20,30]  # integers"
   ]
  },
  {
   "cell_type": "code",
   "execution_count": 9,
   "id": "100bef82-112f-4e29-bc83-b674f6b3de08",
   "metadata": {},
   "outputs": [],
   "source": [
    "list3 = [10.2, 10.8,34.8, 9.8]   # float"
   ]
  },
  {
   "cell_type": "code",
   "execution_count": 11,
   "id": "0fc11902-fd5b-4966-8548-86748f3c10b0",
   "metadata": {},
   "outputs": [],
   "source": [
    "list4= ['one','two','three', 'four']   # strings"
   ]
  },
  {
   "cell_type": "code",
   "execution_count": 13,
   "id": "c6ad4f80-3647-4f40-a949-62ace0893bde",
   "metadata": {},
   "outputs": [],
   "source": [
    "list5= ['Hitesh', 10.2, 5.9, [2025, 'data science']] # Nested List"
   ]
  },
  {
   "cell_type": "code",
   "execution_count": 15,
   "id": "9b84f97a-43b1-48da-b9dc-fffd1bba5114",
   "metadata": {},
   "outputs": [],
   "source": [
    "list6= ['sahu',100, 3.5] # mixed data types"
   ]
  },
  {
   "cell_type": "code",
   "execution_count": 19,
   "id": "6b5985f9-3e7a-41f7-9874-a2c7b263d10a",
   "metadata": {},
   "outputs": [],
   "source": [
    "list7= ['Neha', 2025, [110, 7], [115,8], {'DDS', 'Temple'}]"
   ]
  },
  {
   "cell_type": "code",
   "execution_count": 21,
   "id": "3d0ece33-5199-459f-b9e0-ddc129bf79e4",
   "metadata": {},
   "outputs": [
    {
     "name": "stdout",
     "output_type": "stream",
     "text": [
      "['Neha', 2025, [110, 7], [115, 8], {'DDS', 'Temple'}]\n"
     ]
    }
   ],
   "source": [
    "print(list7)"
   ]
  },
  {
   "cell_type": "code",
   "execution_count": 23,
   "id": "1180347a-1b3a-4fe7-b99b-a4a107d16dd4",
   "metadata": {},
   "outputs": [
    {
     "name": "stdout",
     "output_type": "stream",
     "text": [
      "3\n"
     ]
    }
   ],
   "source": [
    "print(len(list6))"
   ]
  },
  {
   "cell_type": "code",
   "execution_count": 25,
   "id": "1b28039d-3f12-400e-9c1b-b3b12bceb900",
   "metadata": {},
   "outputs": [
    {
     "data": {
      "text/plain": [
       "10"
      ]
     },
     "execution_count": 25,
     "metadata": {},
     "output_type": "execute_result"
    }
   ],
   "source": [
    "list2[0] # Retrives the first element of the list"
   ]
  },
  {
   "cell_type": "code",
   "execution_count": 27,
   "id": "90c2cb1b-1640-4e29-a51c-9319d657925c",
   "metadata": {},
   "outputs": [
    {
     "data": {
      "text/plain": [
       "'o'"
      ]
     },
     "execution_count": 27,
     "metadata": {},
     "output_type": "execute_result"
    }
   ],
   "source": [
    "list4[1][2]  # Nested indexing retrives the third word of the second word (n-1)"
   ]
  },
  {
   "cell_type": "code",
   "execution_count": 33,
   "id": "aa3fc4a5-93c0-46c0-ac4b-310fa2face41",
   "metadata": {},
   "outputs": [
    {
     "data": {
      "text/plain": [
       "[2025, 'data science']"
      ]
     },
     "execution_count": 33,
     "metadata": {},
     "output_type": "execute_result"
    }
   ],
   "source": [
    "list5[-1]  # Retrives the last character from the list"
   ]
  },
  {
   "cell_type": "code",
   "execution_count": 35,
   "id": "a3c225c6-ab86-4557-989b-2b08df5a2833",
   "metadata": {},
   "outputs": [
    {
     "data": {
      "text/plain": [
       "['Neha', 2025, [110, 7]]"
      ]
     },
     "execution_count": 35,
     "metadata": {},
     "output_type": "execute_result"
    }
   ],
   "source": [
    "list7[0:3]  # Slicing - retrives all the lsit from 0 to 3 "
   ]
  },
  {
   "cell_type": "code",
   "execution_count": 39,
   "id": "587de31c-c575-427a-80f5-59a55f3f6f52",
   "metadata": {},
   "outputs": [
    {
     "data": {
      "text/plain": [
       "[[115, 8], {'DDS', 'Temple'}]"
      ]
     },
     "execution_count": 39,
     "metadata": {},
     "output_type": "execute_result"
    }
   ],
   "source": [
    "list7[3:7] # Slicing from 3 to 7"
   ]
  },
  {
   "cell_type": "code",
   "execution_count": 41,
   "id": "80379bfe-3d0f-450f-aff9-202f82acf1ee",
   "metadata": {},
   "outputs": [
    {
     "data": {
      "text/plain": [
       "['Neha', 2025, [110, 7], [115, 8]]"
      ]
     },
     "execution_count": 41,
     "metadata": {},
     "output_type": "execute_result"
    }
   ],
   "source": [
    "list7[:4] # slicing from 0-4"
   ]
  },
  {
   "cell_type": "code",
   "execution_count": 43,
   "id": "d55c68de-06cc-42b9-8d8a-7ecd1b970481",
   "metadata": {},
   "outputs": [
    {
     "data": {
      "text/plain": [
       "['Neha', 2025, [110, 7], [115, 8], {'DDS', 'Temple'}]"
      ]
     },
     "execution_count": 43,
     "metadata": {},
     "output_type": "execute_result"
    }
   ],
   "source": [
    "list7[:]  # Returns the whole list"
   ]
  },
  {
   "cell_type": "code",
   "execution_count": 45,
   "id": "17f27f19-50c4-49c1-9f43-6376768be817",
   "metadata": {},
   "outputs": [],
   "source": [
    "list7.append('Superb') # Appended the new word to the end of the list by default"
   ]
  },
  {
   "cell_type": "code",
   "execution_count": 47,
   "id": "56057dbe-22a7-4681-ab1c-2b42751127da",
   "metadata": {},
   "outputs": [
    {
     "name": "stdout",
     "output_type": "stream",
     "text": [
      "['Neha', 2025, [110, 7], [115, 8], {'DDS', 'Temple'}, 'Superb']\n"
     ]
    }
   ],
   "source": [
    "print(list7)"
   ]
  },
  {
   "cell_type": "code",
   "execution_count": 51,
   "id": "c6ca4922-7201-428e-a62f-6c55885d8107",
   "metadata": {},
   "outputs": [],
   "source": [
    "list7.insert(5, 'Hello')  # Inserted the new record at 5th position"
   ]
  },
  {
   "cell_type": "code",
   "execution_count": 53,
   "id": "96e92503-febd-4fab-a4c1-bdadebb1cd60",
   "metadata": {},
   "outputs": [
    {
     "name": "stdout",
     "output_type": "stream",
     "text": [
      "['Neha', 2025, [110, 7], [115, 8], {'DDS', 'Temple'}, 'Hello', 'Superb']\n"
     ]
    }
   ],
   "source": [
    "print(list7)"
   ]
  },
  {
   "cell_type": "code",
   "execution_count": 55,
   "id": "b7e706e3-141d-4052-8073-b7b5c8e28a80",
   "metadata": {},
   "outputs": [],
   "source": [
    "list7.insert(2,'red')"
   ]
  },
  {
   "cell_type": "code",
   "execution_count": 57,
   "id": "6bae748c-78cf-4324-9e39-cf870adacf7c",
   "metadata": {},
   "outputs": [
    {
     "name": "stdout",
     "output_type": "stream",
     "text": [
      "['Neha', 2025, 'red', [110, 7], [115, 8], {'DDS', 'Temple'}, 'Hello', 'Superb']\n"
     ]
    }
   ],
   "source": [
    "print(list7)"
   ]
  },
  {
   "cell_type": "code",
   "execution_count": 59,
   "id": "8e47b245-f4f5-44af-95a6-a951c4bfe4f1",
   "metadata": {},
   "outputs": [],
   "source": [
    "list7.remove('red')  # removed red"
   ]
  },
  {
   "cell_type": "code",
   "execution_count": 61,
   "id": "3577a428-321e-43e5-abce-e5c645fa9236",
   "metadata": {},
   "outputs": [
    {
     "name": "stdout",
     "output_type": "stream",
     "text": [
      "['Neha', 2025, [110, 7], [115, 8], {'DDS', 'Temple'}, 'Hello', 'Superb']\n"
     ]
    }
   ],
   "source": [
    "print(list7)"
   ]
  },
  {
   "cell_type": "code",
   "execution_count": 63,
   "id": "7c7555b8-1215-4ac0-8db5-2f1f88246b99",
   "metadata": {},
   "outputs": [
    {
     "data": {
      "text/plain": [
       "{'DDS', 'Temple'}"
      ]
     },
     "execution_count": 63,
     "metadata": {},
     "output_type": "execute_result"
    }
   ],
   "source": [
    "list7.pop(4)  # Removed the item at index 4 (n-1)"
   ]
  },
  {
   "cell_type": "code",
   "execution_count": 65,
   "id": "fccbf8b3-1008-4766-80c4-ff332530021b",
   "metadata": {},
   "outputs": [
    {
     "name": "stdout",
     "output_type": "stream",
     "text": [
      "['Neha', 2025, [110, 7], [115, 8], 'Hello', 'Superb']\n"
     ]
    }
   ],
   "source": [
    "print(list7)"
   ]
  },
  {
   "cell_type": "code",
   "execution_count": 67,
   "id": "8362a2ce-1ef0-4966-b029-e78a8da10f12",
   "metadata": {},
   "outputs": [],
   "source": [
    "del list3  # Delete the list"
   ]
  },
  {
   "cell_type": "code",
   "execution_count": 69,
   "id": "46871b3b-799a-4f79-a397-7fce4bec4e02",
   "metadata": {},
   "outputs": [
    {
     "ename": "NameError",
     "evalue": "name 'list3' is not defined",
     "output_type": "error",
     "traceback": [
      "\u001b[1;31m---------------------------------------------------------------------------\u001b[0m",
      "\u001b[1;31mNameError\u001b[0m                                 Traceback (most recent call last)",
      "Cell \u001b[1;32mIn[69], line 1\u001b[0m\n\u001b[1;32m----> 1\u001b[0m \u001b[38;5;28mprint\u001b[39m(list3)\n",
      "\u001b[1;31mNameError\u001b[0m: name 'list3' is not defined"
     ]
    }
   ],
   "source": [
    "print(list3)"
   ]
  },
  {
   "cell_type": "code",
   "execution_count": 71,
   "id": "8c8ec6d8-f54e-4e82-a716-107152ce0f73",
   "metadata": {},
   "outputs": [],
   "source": [
    "list8 = ['one','two', 'three', 'four', 'five', 'six', 'seven', 'eight']"
   ]
  },
  {
   "cell_type": "code",
   "execution_count": 81,
   "id": "97703639-0b0d-4af1-93fe-6bd8effc9300",
   "metadata": {},
   "outputs": [
    {
     "data": {
      "text/plain": [
       "[1, 2, 3, 3, 'five', 'six', 'seven', 'eight']"
      ]
     },
     "execution_count": 81,
     "metadata": {},
     "output_type": "execute_result"
    }
   ],
   "source": [
    "list8[0]= 1   # change the string to integer in list\n",
    "list8[1]= 2\n",
    "list8[2]= 3\n",
    "list8"
   ]
  },
  {
   "cell_type": "code",
   "execution_count": 83,
   "id": "e42060db-4e4e-41ef-a7bc-25865c59b79d",
   "metadata": {},
   "outputs": [],
   "source": [
    "list8.clear() # Delete the list"
   ]
  },
  {
   "cell_type": "code",
   "execution_count": 85,
   "id": "1e9f2e1b-e118-425c-85ab-7a290df60bc1",
   "metadata": {},
   "outputs": [
    {
     "name": "stdout",
     "output_type": "stream",
     "text": [
      "[]\n"
     ]
    }
   ],
   "source": [
    "print(list8)"
   ]
  },
  {
   "cell_type": "code",
   "execution_count": 97,
   "id": "b1d33817-0f85-4930-be93-21e082f3eda8",
   "metadata": {},
   "outputs": [],
   "source": [
    "list9= [1, 2, 3, 4, 5, 8, 9]"
   ]
  },
  {
   "cell_type": "code",
   "execution_count": 99,
   "id": "d05c00f7-1a58-4e34-9f96-b586a2c23384",
   "metadata": {},
   "outputs": [],
   "source": [
    "list7= list9 # create a reference list"
   ]
  },
  {
   "cell_type": "code",
   "execution_count": 101,
   "id": "fa7c6062-249c-45dd-bdad-8c76f6535d58",
   "metadata": {},
   "outputs": [
    {
     "name": "stdout",
     "output_type": "stream",
     "text": [
      "[1, 2, 3, 4, 5, 8, 9]\n"
     ]
    }
   ],
   "source": [
    "print(list9)"
   ]
  },
  {
   "cell_type": "code",
   "execution_count": 103,
   "id": "737c3de3-833c-49aa-b359-c38262afda89",
   "metadata": {},
   "outputs": [
    {
     "data": {
      "text/plain": [
       "(3012941552256, 3012941552256)"
      ]
     },
     "execution_count": 103,
     "metadata": {},
     "output_type": "execute_result"
    }
   ],
   "source": [
    "id(list7), id(list9)  # ID of both list will be the same"
   ]
  },
  {
   "cell_type": "code",
   "execution_count": 105,
   "id": "91cd382c-d00e-4b42-a146-90ba8c1083a4",
   "metadata": {},
   "outputs": [],
   "source": [
    "list10= list9.copy()"
   ]
  },
  {
   "cell_type": "code",
   "execution_count": 107,
   "id": "22492bc4-09f6-4d32-8fd5-9e9de8e4154e",
   "metadata": {},
   "outputs": [
    {
     "name": "stdout",
     "output_type": "stream",
     "text": [
      "[1, 2, 3, 4, 5, 8, 9]\n"
     ]
    }
   ],
   "source": [
    "print(list10)"
   ]
  },
  {
   "cell_type": "code",
   "execution_count": 109,
   "id": "b4ce7d41-821a-48e2-89a7-397fb6d0dc55",
   "metadata": {},
   "outputs": [],
   "source": [
    "list9[0]= 90"
   ]
  },
  {
   "cell_type": "code",
   "execution_count": 111,
   "id": "dd05901f-c375-4cc5-9fc1-76b7463b608a",
   "metadata": {},
   "outputs": [
    {
     "name": "stdout",
     "output_type": "stream",
     "text": [
      "[90, 2, 3, 4, 5, 8, 9]\n"
     ]
    }
   ],
   "source": [
    "print(list9)"
   ]
  },
  {
   "cell_type": "code",
   "execution_count": 113,
   "id": "fe803dc4-0578-4981-925b-16d1263f63f1",
   "metadata": {},
   "outputs": [
    {
     "name": "stdout",
     "output_type": "stream",
     "text": [
      "[1, 2, 3, 4, 5, 8, 9]\n"
     ]
    }
   ],
   "source": [
    "print(list10)"
   ]
  },
  {
   "cell_type": "code",
   "execution_count": 115,
   "id": "f6be88b3-6b35-43f6-869d-24e5b84c26c0",
   "metadata": {},
   "outputs": [
    {
     "data": {
      "text/plain": [
       "3012941519616"
      ]
     },
     "execution_count": 115,
     "metadata": {},
     "output_type": "execute_result"
    }
   ],
   "source": [
    "id(list10)"
   ]
  },
  {
   "cell_type": "code",
   "execution_count": 119,
   "id": "009e9511-0797-4112-8cfb-aa862ade8255",
   "metadata": {},
   "outputs": [
    {
     "name": "stdout",
     "output_type": "stream",
     "text": [
      "[90, 2, 3, 4, 5, 8, 9]\n"
     ]
    }
   ],
   "source": [
    "print(list9)   # List 9 got impacted as it was a refrence list and value got changed to 90"
   ]
  },
  {
   "cell_type": "code",
   "execution_count": 121,
   "id": "3a720dec-9425-49f5-8a7a-055c90347bc9",
   "metadata": {},
   "outputs": [],
   "source": [
    "list11= list7+ list9  # Joined two list"
   ]
  },
  {
   "cell_type": "code",
   "execution_count": 123,
   "id": "a2c11c6d-55f8-4e69-aec1-2a4add521b9a",
   "metadata": {},
   "outputs": [
    {
     "name": "stdout",
     "output_type": "stream",
     "text": [
      "[90, 2, 3, 4, 5, 8, 9, 90, 2, 3, 4, 5, 8, 9]\n"
     ]
    }
   ],
   "source": [
    "print(list11)"
   ]
  },
  {
   "cell_type": "code",
   "execution_count": 125,
   "id": "857f55cc-8727-4d9a-9f3a-9460e5eee15c",
   "metadata": {},
   "outputs": [],
   "source": [
    "list11.reverse()  # Reverse the list "
   ]
  },
  {
   "cell_type": "code",
   "execution_count": 129,
   "id": "9dd23ef0-885b-4e08-8089-da75bd8e2500",
   "metadata": {},
   "outputs": [
    {
     "name": "stdout",
     "output_type": "stream",
     "text": [
      "[9, 8, 5, 4, 3, 2, 90, 9, 8, 5, 4, 3, 2, 90]\n"
     ]
    }
   ],
   "source": [
    "print(list11)"
   ]
  },
  {
   "cell_type": "code",
   "execution_count": 131,
   "id": "959bdfc2-3647-4df9-8311-3e8356810164",
   "metadata": {},
   "outputs": [
    {
     "data": {
      "text/plain": [
       "True"
      ]
     },
     "execution_count": 131,
     "metadata": {},
     "output_type": "execute_result"
    }
   ],
   "source": [
    "9 in list11  # List Membership"
   ]
  },
  {
   "cell_type": "code",
   "execution_count": 133,
   "id": "5d34f4d8-1648-47de-b913-69e3e8565aee",
   "metadata": {},
   "outputs": [
    {
     "data": {
      "text/plain": [
       "False"
      ]
     },
     "execution_count": 133,
     "metadata": {},
     "output_type": "execute_result"
    }
   ],
   "source": [
    "89 in list11"
   ]
  },
  {
   "cell_type": "code",
   "execution_count": 135,
   "id": "d621e5d2-0d26-42e3-9587-761e90a67b49",
   "metadata": {},
   "outputs": [
    {
     "ename": "SyntaxError",
     "evalue": "invalid syntax (3437841713.py, line 1)",
     "output_type": "error",
     "traceback": [
      "\u001b[1;36m  Cell \u001b[1;32mIn[135], line 1\u001b[1;36m\u001b[0m\n\u001b[1;33m    if 9 in the list11:\u001b[0m\n\u001b[1;37m                ^\u001b[0m\n\u001b[1;31mSyntaxError\u001b[0m\u001b[1;31m:\u001b[0m invalid syntax\n"
     ]
    }
   ],
   "source": [
    "if 9 in the list11:\n",
    "print ('Nine in the list')\n",
    "else: \n",
    "print('Nine is not present in the list')"
   ]
  },
  {
   "cell_type": "code",
   "execution_count": 137,
   "id": "90f05a97-c700-4864-b544-19e9ff7adb0e",
   "metadata": {},
   "outputs": [],
   "source": [
    "list11.append('nine')"
   ]
  },
  {
   "cell_type": "code",
   "execution_count": 151,
   "id": "5a073988-015c-4a7a-bfc0-997c3619cab8",
   "metadata": {},
   "outputs": [
    {
     "ename": "SyntaxError",
     "evalue": "invalid syntax (2621195222.py, line 1)",
     "output_type": "error",
     "traceback": [
      "\u001b[1;36m  Cell \u001b[1;32mIn[151], line 1\u001b[1;36m\u001b[0m\n\u001b[1;33m    if 'nine' in the list11:\u001b[0m\n\u001b[1;37m                     ^\u001b[0m\n\u001b[1;31mSyntaxError\u001b[0m\u001b[1;31m:\u001b[0m invalid syntax\n"
     ]
    }
   ],
   "source": [
    "if 'nine' in the list11:\n",
    "    print ('Nine in the list')\n",
    "else: \n",
    "    print('Nine is not present in the list')"
   ]
  },
  {
   "cell_type": "code",
   "execution_count": 143,
   "id": "0935eb69-7206-450f-9b70-5e8eed108ebd",
   "metadata": {},
   "outputs": [
    {
     "name": "stdout",
     "output_type": "stream",
     "text": [
      "[9, 8, 5, 4, 3, 2, 90, 9, 8, 5, 4, 3, 2, 90, 'nine']\n"
     ]
    }
   ],
   "source": [
    "print(list11)"
   ]
  },
  {
   "cell_type": "code",
   "execution_count": 149,
   "id": "180e3f34-f5d8-4421-8c6e-2845812cbad4",
   "metadata": {},
   "outputs": [
    {
     "name": "stdout",
     "output_type": "stream",
     "text": [
      "Three is not present in the list\n"
     ]
    }
   ],
   "source": [
    "if 'three' in list1: # Check if 'three' exist in the list\n",
    "    print('Three is present in the list')\n",
    "else:\n",
    "    print('Three is not present in the list')"
   ]
  },
  {
   "cell_type": "code",
   "execution_count": 159,
   "id": "36b3a33a-4893-4061-8d9f-6867e07ddd6b",
   "metadata": {},
   "outputs": [
    {
     "ename": "IndentationError",
     "evalue": "expected an indented block after 'if' statement on line 1 (1705057566.py, line 2)",
     "output_type": "error",
     "traceback": [
      "\u001b[1;36m  Cell \u001b[1;32mIn[159], line 2\u001b[1;36m\u001b[0m\n\u001b[1;33m    print('Three is present in the list')\u001b[0m\n\u001b[1;37m    ^\u001b[0m\n\u001b[1;31mIndentationError\u001b[0m\u001b[1;31m:\u001b[0m expected an indented block after 'if' statement on line 1\n"
     ]
    }
   ],
   "source": [
    "if 'nine' in list1: # Check if 'three' exist in the list\n",
    "print('Three is present in the list')\n",
    "else:\n",
    "print('Three is not present in the list')"
   ]
  },
  {
   "cell_type": "code",
   "execution_count": 161,
   "id": "f3d3f8c2-5bb1-43a4-8372-e32268a5ed4e",
   "metadata": {},
   "outputs": [
    {
     "name": "stdout",
     "output_type": "stream",
     "text": [
      "[90, 2, 3, 4, 5, 8, 9]\n"
     ]
    }
   ],
   "source": [
    "print(list7)"
   ]
  },
  {
   "cell_type": "code",
   "execution_count": 163,
   "id": "db20242b-d993-419e-bf60-2232c5a91164",
   "metadata": {},
   "outputs": [],
   "source": [
    "list7= ['Neha', 2025, [110, 7], [115,8], {'DDS', 'Temple'}]"
   ]
  },
  {
   "cell_type": "code",
   "execution_count": 165,
   "id": "76d4aa1f-2845-40bf-a869-67646c4adbfa",
   "metadata": {},
   "outputs": [
    {
     "name": "stdout",
     "output_type": "stream",
     "text": [
      "['Neha', 2025, [110, 7], [115, 8], {'DDS', 'Temple'}]\n"
     ]
    }
   ],
   "source": [
    "print(list7)"
   ]
  },
  {
   "cell_type": "code",
   "execution_count": 167,
   "id": "0f9479a9-cc37-44c4-bc61-fd114c668afc",
   "metadata": {},
   "outputs": [
    {
     "name": "stdout",
     "output_type": "stream",
     "text": [
      "Neha is present\n"
     ]
    }
   ],
   "source": [
    "if 'Neha' in list7:\n",
    "    print('Neha is present')\n",
    "else:\n",
    "    print('Neha is not present')"
   ]
  },
  {
   "cell_type": "code",
   "execution_count": 183,
   "id": "ef0374e1-9fcf-4b68-9145-abcf872fa5ac",
   "metadata": {},
   "outputs": [
    {
     "data": {
      "text/plain": [
       "[8, 9, 6, 67, 87, 90, 16, 18, 22]"
      ]
     },
     "execution_count": 183,
     "metadata": {},
     "output_type": "execute_result"
    }
   ],
   "source": [
    "list12= [8,9,6,67,87,90,16,18,22]\n",
    "list12"
   ]
  },
  {
   "cell_type": "code",
   "execution_count": 185,
   "id": "d62348a5-ae6d-4b7e-98fc-6de9c09370ac",
   "metadata": {},
   "outputs": [
    {
     "data": {
      "text/plain": [
       "[8, 9, 6, 67, 87, 90, 16, 18, 22, 33]"
      ]
     },
     "execution_count": 185,
     "metadata": {},
     "output_type": "execute_result"
    }
   ],
   "source": [
    "list12.append(33)\n",
    "list12"
   ]
  },
  {
   "cell_type": "code",
   "execution_count": 187,
   "id": "5272bc02-35ec-4539-9f6f-2b5ae5c948fd",
   "metadata": {},
   "outputs": [
    {
     "data": {
      "text/plain": [
       "[6, 8, 9, 16, 18, 22, 33, 67, 87, 90]"
      ]
     },
     "execution_count": 187,
     "metadata": {},
     "output_type": "execute_result"
    }
   ],
   "source": [
    "list12.sort()   #Sorting in ascending order small to large\n",
    "list12"
   ]
  },
  {
   "cell_type": "code",
   "execution_count": 189,
   "id": "d4a8bc7e-da6b-4f35-a313-d3a492080035",
   "metadata": {},
   "outputs": [
    {
     "data": {
      "text/plain": [
       "[90, 87, 67, 33, 22, 18, 16, 9, 8, 6]"
      ]
     },
     "execution_count": 189,
     "metadata": {},
     "output_type": "execute_result"
    }
   ],
   "source": [
    "list12.sort(reverse=True)  #Soorting in descending order\n",
    "list12"
   ]
  },
  {
   "cell_type": "code",
   "execution_count": 191,
   "id": "6b75b2fd-9aca-43a6-8555-1f59ef7fa1d0",
   "metadata": {},
   "outputs": [
    {
     "name": "stdout",
     "output_type": "stream",
     "text": [
      "90\n",
      "87\n",
      "67\n",
      "33\n",
      "22\n",
      "18\n",
      "16\n",
      "9\n",
      "8\n",
      "6\n"
     ]
    }
   ],
   "source": [
    "for i in list12:\n",
    "    print(i)"
   ]
  },
  {
   "cell_type": "code",
   "execution_count": 193,
   "id": "a2bb32f1-950d-4db0-8ea5-52f0481c6b99",
   "metadata": {},
   "outputs": [
    {
     "name": "stdout",
     "output_type": "stream",
     "text": [
      "(0, 90)\n",
      "(1, 87)\n",
      "(2, 67)\n",
      "(3, 33)\n",
      "(4, 22)\n",
      "(5, 18)\n",
      "(6, 16)\n",
      "(7, 9)\n",
      "(8, 8)\n",
      "(9, 6)\n"
     ]
    }
   ],
   "source": [
    "for i in enumerate(list12):\n",
    "    print(i)\n"
   ]
  },
  {
   "cell_type": "code",
   "execution_count": 195,
   "id": "a93f082d-cadb-40f4-9012-6de196d4b5b8",
   "metadata": {},
   "outputs": [
    {
     "ename": "TypeError",
     "evalue": "list.append() takes exactly one argument (5 given)",
     "output_type": "error",
     "traceback": [
      "\u001b[1;31m---------------------------------------------------------------------------\u001b[0m",
      "\u001b[1;31mTypeError\u001b[0m                                 Traceback (most recent call last)",
      "Cell \u001b[1;32mIn[195], line 1\u001b[0m\n\u001b[1;32m----> 1\u001b[0m list12\u001b[38;5;241m.\u001b[39mappend(\u001b[38;5;241m90\u001b[39m,\u001b[38;5;241m87\u001b[39m,\u001b[38;5;241m90\u001b[39m,\u001b[38;5;241m16\u001b[39m,\u001b[38;5;241m9\u001b[39m)\n",
      "\u001b[1;31mTypeError\u001b[0m: list.append() takes exactly one argument (5 given)"
     ]
    }
   ],
   "source": [
    "list12.append(90,87,90,16,9)"
   ]
  },
  {
   "cell_type": "code",
   "execution_count": 197,
   "id": "67a2b877-e911-4cda-986e-67004f9b6152",
   "metadata": {},
   "outputs": [],
   "source": [
    "list12.append(90)\n"
   ]
  },
  {
   "cell_type": "code",
   "execution_count": 199,
   "id": "50c93484-6e20-4889-b66d-fe244ca9fd18",
   "metadata": {},
   "outputs": [],
   "source": [
    "list12.append(87)"
   ]
  },
  {
   "cell_type": "code",
   "execution_count": 201,
   "id": "84404261-c860-4322-924c-271fd4212120",
   "metadata": {},
   "outputs": [],
   "source": [
    "list12.append(18)"
   ]
  },
  {
   "cell_type": "code",
   "execution_count": 203,
   "id": "34b4a4f6-5f2c-4b64-8909-a2df6f3525ed",
   "metadata": {},
   "outputs": [],
   "source": [
    "list12.append(12)"
   ]
  },
  {
   "cell_type": "code",
   "execution_count": 205,
   "id": "13313244-a703-45be-aeec-95e75fb991d5",
   "metadata": {},
   "outputs": [
    {
     "name": "stdout",
     "output_type": "stream",
     "text": [
      "[90, 87, 67, 33, 22, 18, 16, 9, 8, 6, 90, 87, 18, 12]\n"
     ]
    }
   ],
   "source": [
    "print(list12)"
   ]
  },
  {
   "cell_type": "code",
   "execution_count": 207,
   "id": "a7df1cff-93c4-4f7c-9f6a-2a9b77737f61",
   "metadata": {},
   "outputs": [
    {
     "data": {
      "text/plain": [
       "2"
      ]
     },
     "execution_count": 207,
     "metadata": {},
     "output_type": "execute_result"
    }
   ],
   "source": [
    "list12.count(90)  # Count 90 "
   ]
  },
  {
   "cell_type": "code",
   "execution_count": 209,
   "id": "90dccd78-4fab-4b0f-8165-b130681aa167",
   "metadata": {},
   "outputs": [
    {
     "data": {
      "text/plain": [
       "2"
      ]
     },
     "execution_count": 209,
     "metadata": {},
     "output_type": "execute_result"
    }
   ],
   "source": [
    "list12.count(87)"
   ]
  },
  {
   "cell_type": "code",
   "execution_count": 211,
   "id": "bed47a06-dec0-4a8d-844d-c6c81cb4b3ee",
   "metadata": {},
   "outputs": [],
   "source": [
    "list12.append(0)"
   ]
  },
  {
   "cell_type": "code",
   "execution_count": 215,
   "id": "2b414d45-aec0-4a57-b8cc-6f6add909b16",
   "metadata": {},
   "outputs": [],
   "source": [
    "list12.append('True')"
   ]
  },
  {
   "cell_type": "code",
   "execution_count": 217,
   "id": "ddd53972-b4d2-4476-9697-84f8d40ff3cb",
   "metadata": {},
   "outputs": [],
   "source": [
    "list12.append('False')"
   ]
  },
  {
   "cell_type": "code",
   "execution_count": 219,
   "id": "8425cfd1-1d02-4cdd-876a-1d02d6d3a9fd",
   "metadata": {},
   "outputs": [
    {
     "name": "stdout",
     "output_type": "stream",
     "text": [
      "[90, 87, 67, 33, 22, 18, 16, 9, 8, 6, 90, 87, 18, 12, 0, 'True', 'False']\n"
     ]
    }
   ],
   "source": [
    "print(list12)"
   ]
  },
  {
   "cell_type": "code",
   "execution_count": 221,
   "id": "e5cc5648-ed80-4a2b-83cc-64e30bc1a1d5",
   "metadata": {},
   "outputs": [
    {
     "data": {
      "text/plain": [
       "False"
      ]
     },
     "execution_count": 221,
     "metadata": {},
     "output_type": "execute_result"
    }
   ],
   "source": [
    "all(list12) # Will Return false as one value is false (Value 0)"
   ]
  },
  {
   "cell_type": "code",
   "execution_count": 223,
   "id": "71e00905-8e57-4b24-b373-a15fbcfe182d",
   "metadata": {},
   "outputs": [
    {
     "data": {
      "text/plain": [
       "True"
      ]
     },
     "execution_count": 223,
     "metadata": {},
     "output_type": "execute_result"
    }
   ],
   "source": [
    "any(list12) # Will Return True as we have items in the list with True value"
   ]
  },
  {
   "cell_type": "code",
   "execution_count": 225,
   "id": "d9dbf3d7-f784-444a-93cf-f163da6322c6",
   "metadata": {},
   "outputs": [],
   "source": [
    "list12.remove(0)"
   ]
  },
  {
   "cell_type": "code",
   "execution_count": 229,
   "id": "1023cd78-219e-4f85-9aa7-0a94912f01b6",
   "metadata": {},
   "outputs": [
    {
     "name": "stdout",
     "output_type": "stream",
     "text": [
      "[90, 87, 67, 33, 22, 18, 16, 9, 8, 6, 90, 87, 18, 12, 'True', 'False']\n"
     ]
    }
   ],
   "source": [
    "print(list12)"
   ]
  },
  {
   "cell_type": "code",
   "execution_count": 231,
   "id": "b5727eaf-b419-401d-9619-39949a36b529",
   "metadata": {},
   "outputs": [
    {
     "data": {
      "text/plain": [
       "True"
      ]
     },
     "execution_count": 231,
     "metadata": {},
     "output_type": "execute_result"
    }
   ],
   "source": [
    "all(list12) #Will return True as all items in the list are True"
   ]
  },
  {
   "cell_type": "code",
   "execution_count": null,
   "id": "9de9a77e-f859-43f8-9e0a-98732632ef8b",
   "metadata": {},
   "outputs": [],
   "source": []
  },
  {
   "cell_type": "code",
   "execution_count": null,
   "id": "67e6e373-693e-4978-b595-ba93657c10c6",
   "metadata": {},
   "outputs": [],
   "source": []
  }
 ],
 "metadata": {
  "kernelspec": {
   "display_name": "Python [conda env:base] *",
   "language": "python",
   "name": "conda-base-py"
  },
  "language_info": {
   "codemirror_mode": {
    "name": "ipython",
    "version": 3
   },
   "file_extension": ".py",
   "mimetype": "text/x-python",
   "name": "python",
   "nbconvert_exporter": "python",
   "pygments_lexer": "ipython3",
   "version": "3.12.7"
  }
 },
 "nbformat": 4,
 "nbformat_minor": 5
}
