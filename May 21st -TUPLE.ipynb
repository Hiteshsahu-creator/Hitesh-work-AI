{
 "cells": [
  {
   "cell_type": "raw",
   "id": "e7337b90-c429-494a-828d-3a1227ca2bfe",
   "metadata": {},
   "source": [
    "#TUPLE"
   ]
  },
  {
   "cell_type": "code",
   "execution_count": 1,
   "id": "0f637c92-89d9-4260-911c-166fc293c03a",
   "metadata": {},
   "outputs": [
    {
     "name": "stdout",
     "output_type": "stream",
     "text": [
      "5\n",
      "1\n",
      "6\n",
      "1.5\n",
      "9\n",
      "1\n",
      "1\n",
      "<class 'int'>\n",
      "<class 'float'>\n",
      "<class 'complex'>\n",
      "<class 'str'>\n",
      "<class 'list'>\n",
      "<class 'dict'>\n",
      "<class 'set'>\n",
      "<class 'tuple'>\n",
      "<class 'bool'>\n",
      "<class 'bool'>\n"
     ]
    }
   ],
   "source": [
    "print(3 + 2)   # addition(+)\n",
    "print(3 - 2)   # subtraction(-)\n",
    "print(3 * 2)   # multiplication(*)\n",
    "print(3 / 2)   # division(/)\n",
    "print(3 ** 2)  # exponential(**)\n",
    "print(3 % 2)   # modulus(%)\n",
    "print(3 // 2)  # Floor division operator(//)\n",
    "\n",
    "# Checking data types\n",
    "\n",
    "print(type(10))                  # Int\n",
    "print(type(3.14))                # Float\n",
    "print(type(1 + 3j))              # Complex\n",
    "print(type('prakashsenapati'))   # String\n",
    "print(type([1, 2, 3]))           # List\n",
    "print(type({'name':'senapati'})) # Dictionary\n",
    "print(type({9.8, 3.14, 2.7}))    # Set\n",
    "print(type((9.8, 3.14, 2.7)))    # Tuple\n",
    "print(type(3 == 3))              # Bool\n",
    "print(type(3 >= 3))              # Bool\n"
   ]
  },
  {
   "cell_type": "code",
   "execution_count": 15,
   "id": "c0c664f8-88a7-43cd-b81f-fdd69c15f58e",
   "metadata": {},
   "outputs": [
    {
     "name": "stdout",
     "output_type": "stream",
     "text": [
      "what is you name?\n",
      "my name is hitesh\n"
     ]
    }
   ],
   "source": [
    "print('what is you name?')    #/n line break\n",
    "'/n'\n",
    "print('my name is hitesh')"
   ]
  },
  {
   "cell_type": "code",
   "execution_count": 17,
   "id": "3a280d2f-4591-49dc-b531-39e4d8f64b2a",
   "metadata": {},
   "outputs": [],
   "source": [
    "tupl1= () # Empty Tuple"
   ]
  },
  {
   "cell_type": "code",
   "execution_count": 19,
   "id": "d102137a-479a-40d9-9415-032279c4de9b",
   "metadata": {},
   "outputs": [],
   "source": [
    "tupl2= (10,60,80,40) #Integer"
   ]
  },
  {
   "cell_type": "code",
   "execution_count": 21,
   "id": "e5a33a04-b1d1-4fa6-8255-f2781c59aa36",
   "metadata": {},
   "outputs": [
    {
     "name": "stdout",
     "output_type": "stream",
     "text": [
      "(10, 60, 80, 40)\n"
     ]
    }
   ],
   "source": [
    "print(tupl2)"
   ]
  },
  {
   "cell_type": "code",
   "execution_count": 23,
   "id": "8e7010e3-cd36-4edc-b794-1892cf5c1351",
   "metadata": {},
   "outputs": [
    {
     "data": {
      "text/plain": [
       "(40, 25, 5.2, 4.5)"
      ]
     },
     "execution_count": 23,
     "metadata": {},
     "output_type": "execute_result"
    }
   ],
   "source": [
    "tupl3= (40,25,5.2, 4.5) #Mixed Tuple\n",
    "tupl3"
   ]
  },
  {
   "cell_type": "code",
   "execution_count": 29,
   "id": "72cdf2b5-af31-4887-a16f-17f4c92684d8",
   "metadata": {},
   "outputs": [
    {
     "data": {
      "text/plain": [
       "('hello', 'hi', 'Holla')"
      ]
     },
     "execution_count": 29,
     "metadata": {},
     "output_type": "execute_result"
    }
   ],
   "source": [
    "tupl4= ('hello','hi', 'Holla') # string tuple\n",
    "tupl4"
   ]
  },
  {
   "cell_type": "code",
   "execution_count": 35,
   "id": "7d51adc3-44d8-4aae-ab6d-a72669813c69",
   "metadata": {},
   "outputs": [
    {
     "data": {
      "text/plain": [
       "('Hello', 34, 2.5, (100, 20), (10, 20))"
      ]
     },
     "execution_count": 35,
     "metadata": {},
     "output_type": "execute_result"
    }
   ],
   "source": [
    "tupl5= ('Hello',34, 2.5,(100,20),(10,20)) #Nested tuple\n",
    "tupl5"
   ]
  },
  {
   "cell_type": "code",
   "execution_count": 37,
   "id": "a3d6c5df-cd7b-4ccf-8667-52b0f2ab972a",
   "metadata": {},
   "outputs": [
    {
     "data": {
      "text/plain": [
       "5"
      ]
     },
     "execution_count": 37,
     "metadata": {},
     "output_type": "execute_result"
    }
   ],
   "source": [
    "len(tupl5)"
   ]
  },
  {
   "cell_type": "code",
   "execution_count": 41,
   "id": "2e84d6fc-064f-47bc-920b-175215b008f0",
   "metadata": {},
   "outputs": [
    {
     "name": "stdout",
     "output_type": "stream",
     "text": [
      "(0, 'Hello')\n",
      "(1, 34)\n",
      "(2, 2.5)\n",
      "(3, (100, 20))\n",
      "(4, (10, 20))\n"
     ]
    }
   ],
   "source": [
    "for i in enumerate(tupl5):    #paired objectects\n",
    "    print(i)\n"
   ]
  },
  {
   "cell_type": "code",
   "execution_count": 43,
   "id": "cda1fc69-3805-47b9-b507-2b37cd1c3b3c",
   "metadata": {},
   "outputs": [
    {
     "name": "stdout",
     "output_type": "stream",
     "text": [
      "Hello\n",
      "34\n",
      "2.5\n",
      "(100, 20)\n",
      "(10, 20)\n"
     ]
    }
   ],
   "source": [
    "for i in tupl5:\n",
    "    print(i)"
   ]
  },
  {
   "cell_type": "code",
   "execution_count": 45,
   "id": "ea137f81-7642-4992-9de6-19b277b3653a",
   "metadata": {},
   "outputs": [
    {
     "data": {
      "text/plain": [
       "(100, 20)"
      ]
     },
     "execution_count": 45,
     "metadata": {},
     "output_type": "execute_result"
    }
   ],
   "source": [
    "tupl5[3] #Tuple Indexing"
   ]
  },
  {
   "cell_type": "code",
   "execution_count": 47,
   "id": "b08baae6-f0c5-4434-b645-7f5075ca0df3",
   "metadata": {},
   "outputs": [
    {
     "data": {
      "text/plain": [
       "(10, 20)"
      ]
     },
     "execution_count": 47,
     "metadata": {},
     "output_type": "execute_result"
    }
   ],
   "source": [
    "tupl5[-1]"
   ]
  },
  {
   "cell_type": "code",
   "execution_count": 49,
   "id": "f2f9e2f2-9d8e-40c6-bfcf-5e8da5b44b37",
   "metadata": {},
   "outputs": [
    {
     "data": {
      "text/plain": [
       "('Hello', 34, 2.5)"
      ]
     },
     "execution_count": 49,
     "metadata": {},
     "output_type": "execute_result"
    }
   ],
   "source": [
    "tupl5[:3]  #slicing"
   ]
  },
  {
   "cell_type": "code",
   "execution_count": 51,
   "id": "c17e49b5-898b-4741-8a7a-943da0f213d8",
   "metadata": {},
   "outputs": [
    {
     "data": {
      "text/plain": [
       "('Hello', 2.5, (10, 20))"
      ]
     },
     "execution_count": 51,
     "metadata": {},
     "output_type": "execute_result"
    }
   ],
   "source": [
    "tupl5[::2]"
   ]
  },
  {
   "cell_type": "code",
   "execution_count": 53,
   "id": "78acb042-fb07-488e-b43e-c6ba7a2a85aa",
   "metadata": {},
   "outputs": [
    {
     "data": {
      "text/plain": [
       "2.5"
      ]
     },
     "execution_count": 53,
     "metadata": {},
     "output_type": "execute_result"
    }
   ],
   "source": [
    "tupl5[-3]"
   ]
  },
  {
   "cell_type": "code",
   "execution_count": 55,
   "id": "1a5c870f-c991-4931-89cf-fd01d290487b",
   "metadata": {},
   "outputs": [
    {
     "ename": "TypeError",
     "evalue": "'tuple' object doesn't support item deletion",
     "output_type": "error",
     "traceback": [
      "\u001b[1;31m---------------------------------------------------------------------------\u001b[0m",
      "\u001b[1;31mTypeError\u001b[0m                                 Traceback (most recent call last)",
      "Cell \u001b[1;32mIn[55], line 1\u001b[0m\n\u001b[1;32m----> 1\u001b[0m \u001b[38;5;28;01mdel\u001b[39;00m tupl4[\u001b[38;5;241m0\u001b[39m]\n",
      "\u001b[1;31mTypeError\u001b[0m: 'tuple' object doesn't support item deletion"
     ]
    }
   ],
   "source": [
    "del tupl4[0]  #Tuple is immutable and can not be deleted"
   ]
  },
  {
   "cell_type": "code",
   "execution_count": 57,
   "id": "d3bca281-b96c-4923-b3e9-c4df39eaa08f",
   "metadata": {},
   "outputs": [
    {
     "ename": "TypeError",
     "evalue": "'tuple' object does not support item assignment",
     "output_type": "error",
     "traceback": [
      "\u001b[1;31m---------------------------------------------------------------------------\u001b[0m",
      "\u001b[1;31mTypeError\u001b[0m                                 Traceback (most recent call last)",
      "Cell \u001b[1;32mIn[57], line 1\u001b[0m\n\u001b[1;32m----> 1\u001b[0m tupl4[\u001b[38;5;241m0\u001b[39m]\u001b[38;5;241m=\u001b[39m\u001b[38;5;241m3\u001b[39m\n",
      "\u001b[1;31mTypeError\u001b[0m: 'tuple' object does not support item assignment"
     ]
    }
   ],
   "source": [
    "tupl4[0]=3  # Tuple is immutable and can not change the value"
   ]
  },
  {
   "cell_type": "code",
   "execution_count": 61,
   "id": "4ab99d41-fa51-46b4-b3d8-884e491899cc",
   "metadata": {},
   "outputs": [
    {
     "data": {
      "text/plain": [
       "('one', 'two', 'three', 5, 6, 7)"
      ]
     },
     "execution_count": 61,
     "metadata": {},
     "output_type": "execute_result"
    }
   ],
   "source": [
    "tupl6= ('one', 'two', 'three', 5,6, 7)\n",
    "tupl6"
   ]
  },
  {
   "cell_type": "code",
   "execution_count": 63,
   "id": "73ab6750-099e-4692-99e4-d80c8b988a8d",
   "metadata": {},
   "outputs": [
    {
     "data": {
      "text/plain": [
       "True"
      ]
     },
     "execution_count": 63,
     "metadata": {},
     "output_type": "execute_result"
    }
   ],
   "source": [
    "'one' in tupl6 #Tuple membership"
   ]
  },
  {
   "cell_type": "code",
   "execution_count": 65,
   "id": "273aa29a-8351-4c32-b36f-4e288549d3ae",
   "metadata": {},
   "outputs": [
    {
     "data": {
      "text/plain": [
       "True"
      ]
     },
     "execution_count": 65,
     "metadata": {},
     "output_type": "execute_result"
    }
   ],
   "source": [
    "5 in tupl6"
   ]
  },
  {
   "cell_type": "code",
   "execution_count": 73,
   "id": "bc993a80-b88f-4f7b-b570-a8d043c775ce",
   "metadata": {},
   "outputs": [
    {
     "name": "stdout",
     "output_type": "stream",
     "text": [
      "Two present in the list\n"
     ]
    }
   ],
   "source": [
    "if 'two' in tupl6:\n",
    "    print('Two present in the list')\n",
    "else:\n",
    "    print('Two is not in the list')"
   ]
  },
  {
   "cell_type": "code",
   "execution_count": 75,
   "id": "be4c43c2-82a9-4642-8995-730ae2e665cf",
   "metadata": {},
   "outputs": [
    {
     "name": "stdout",
     "output_type": "stream",
     "text": [
      "(10, 60, 80, 40)\n"
     ]
    }
   ],
   "source": [
    "print(tupl2)"
   ]
  },
  {
   "cell_type": "code",
   "execution_count": 81,
   "id": "d55cd035-4e04-44b2-9413-5c14a9ab7420",
   "metadata": {},
   "outputs": [
    {
     "data": {
      "text/plain": [
       "0"
      ]
     },
     "execution_count": 81,
     "metadata": {},
     "output_type": "execute_result"
    }
   ],
   "source": [
    "tupl2.index(10)"
   ]
  },
  {
   "cell_type": "code",
   "execution_count": 85,
   "id": "896bea7b-69fd-4681-9834-2cf42a13be77",
   "metadata": {},
   "outputs": [
    {
     "data": {
      "text/plain": [
       "1"
      ]
     },
     "execution_count": 85,
     "metadata": {},
     "output_type": "execute_result"
    }
   ],
   "source": [
    "tupl2.count(10)"
   ]
  },
  {
   "cell_type": "code",
   "execution_count": 87,
   "id": "116087b2-fe26-45e2-8d2b-6b38445c13e1",
   "metadata": {},
   "outputs": [
    {
     "data": {
      "text/plain": [
       "(10, 10, 10, 60, 60, 80, 40)"
      ]
     },
     "execution_count": 87,
     "metadata": {},
     "output_type": "execute_result"
    }
   ],
   "source": [
    "tupl2= 10, 10, 10,60,60, 80, 40  #duplicate is allowed in tuple\n",
    "tupl2\n"
   ]
  },
  {
   "cell_type": "code",
   "execution_count": 89,
   "id": "21c142ef-1574-4462-b156-bc3304493ceb",
   "metadata": {},
   "outputs": [
    {
     "data": {
      "text/plain": [
       "3"
      ]
     },
     "execution_count": 89,
     "metadata": {},
     "output_type": "execute_result"
    }
   ],
   "source": [
    "tupl2.count(10)"
   ]
  },
  {
   "cell_type": "code",
   "execution_count": 95,
   "id": "aa9759e5-35e8-4a85-9862-db47100fbc81",
   "metadata": {},
   "outputs": [
    {
     "data": {
      "text/plain": [
       "3"
      ]
     },
     "execution_count": 95,
     "metadata": {},
     "output_type": "execute_result"
    }
   ],
   "source": [
    "tupl2.index(60)"
   ]
  },
  {
   "cell_type": "code",
   "execution_count": 99,
   "id": "40ce0a50-b179-4774-9e55-bbf8b9340d79",
   "metadata": {},
   "outputs": [
    {
     "data": {
      "text/plain": [
       "(10, 10, 10, 60, 60, 80, 40, 10, 10, 10, 60, 60, 80, 40)"
      ]
     },
     "execution_count": 99,
     "metadata": {},
     "output_type": "execute_result"
    }
   ],
   "source": [
    "tupl7= tupl2*2\n",
    "tupl7       #Multiplication-every bank keep the data in Tuple format as it can not be deleted"
   ]
  },
  {
   "cell_type": "code",
   "execution_count": 103,
   "id": "e79035b2-2c1a-4755-a594-50c6b74481fa",
   "metadata": {},
   "outputs": [
    {
     "data": {
      "text/plain": [
       "(12, 34, 56, [21, 34, 76, 90])"
      ]
     },
     "execution_count": 103,
     "metadata": {},
     "output_type": "execute_result"
    }
   ],
   "source": [
    "tupl8=(12, 34,56, [21,34,76,90]) #List inside tuple\n",
    "tupl8"
   ]
  },
  {
   "cell_type": "code",
   "execution_count": 109,
   "id": "988c44e8-a301-4369-9a09-491eee840f6f",
   "metadata": {},
   "outputs": [
    {
     "data": {
      "text/plain": [
       "(20, 90, 70, 23, (20, 50), (10, 4))"
      ]
     },
     "execution_count": 109,
     "metadata": {},
     "output_type": "execute_result"
    }
   ],
   "source": [
    "tupl9= (20,90,70,23, (20,50), (10,4))  #Tuple inside tuple\n",
    "tupl9"
   ]
  },
  {
   "cell_type": "code",
   "execution_count": null,
   "id": "ccb1de8e-ed36-47b7-b2e8-8b5ac1540ba4",
   "metadata": {},
   "outputs": [],
   "source": []
  },
  {
   "cell_type": "code",
   "execution_count": null,
   "id": "5bc809b3-2aca-40f6-b4ec-213df11c8070",
   "metadata": {},
   "outputs": [],
   "source": []
  },
  {
   "cell_type": "code",
   "execution_count": null,
   "id": "7e755325-f78b-4c23-9aaf-2e229d419207",
   "metadata": {},
   "outputs": [],
   "source": []
  },
  {
   "cell_type": "code",
   "execution_count": null,
   "id": "8d9f5b7f-4215-45f3-a63e-ac707aee09fb",
   "metadata": {},
   "outputs": [],
   "source": []
  },
  {
   "cell_type": "code",
   "execution_count": null,
   "id": "f3d7fb1f-4233-4109-983b-8364f0ce46c5",
   "metadata": {},
   "outputs": [],
   "source": []
  },
  {
   "cell_type": "code",
   "execution_count": null,
   "id": "d89914f7-e217-4a31-ae54-3bb616605a74",
   "metadata": {},
   "outputs": [],
   "source": []
  },
  {
   "cell_type": "code",
   "execution_count": null,
   "id": "1ae742fb-c06c-41bb-84c9-4aa309cce6e1",
   "metadata": {},
   "outputs": [],
   "source": []
  },
  {
   "cell_type": "code",
   "execution_count": null,
   "id": "7384d31a-3032-4fdf-a4aa-f9212628395f",
   "metadata": {},
   "outputs": [],
   "source": []
  },
  {
   "cell_type": "code",
   "execution_count": null,
   "id": "14572da6-69cc-4b61-8c18-54dbd179ecf3",
   "metadata": {},
   "outputs": [],
   "source": []
  },
  {
   "cell_type": "code",
   "execution_count": null,
   "id": "2a66b558-f21a-4194-b5a7-f83da325456a",
   "metadata": {},
   "outputs": [],
   "source": []
  },
  {
   "cell_type": "code",
   "execution_count": null,
   "id": "6bbce761-0746-4493-a33f-781bcedbeafb",
   "metadata": {},
   "outputs": [],
   "source": []
  },
  {
   "cell_type": "code",
   "execution_count": null,
   "id": "22d5298c-71d7-4de0-bb4a-facc4b2fd89e",
   "metadata": {},
   "outputs": [],
   "source": []
  },
  {
   "cell_type": "code",
   "execution_count": null,
   "id": "7c0114c7-b938-4bfb-9a12-718cb2323176",
   "metadata": {},
   "outputs": [],
   "source": []
  },
  {
   "cell_type": "code",
   "execution_count": null,
   "id": "49251088-1b2a-43ea-b7a5-bda110dba6bf",
   "metadata": {},
   "outputs": [],
   "source": []
  },
  {
   "cell_type": "code",
   "execution_count": null,
   "id": "09574832-51ce-4de8-a017-a3b2817f063b",
   "metadata": {},
   "outputs": [],
   "source": []
  },
  {
   "cell_type": "code",
   "execution_count": null,
   "id": "e95eafb6-4eac-4266-b825-5ef88bdc802c",
   "metadata": {},
   "outputs": [],
   "source": []
  },
  {
   "cell_type": "code",
   "execution_count": null,
   "id": "718b3809-5ad8-4055-9572-906f3a8e1c98",
   "metadata": {},
   "outputs": [],
   "source": []
  }
 ],
 "metadata": {
  "kernelspec": {
   "display_name": "Python [conda env:base] *",
   "language": "python",
   "name": "conda-base-py"
  },
  "language_info": {
   "codemirror_mode": {
    "name": "ipython",
    "version": 3
   },
   "file_extension": ".py",
   "mimetype": "text/x-python",
   "name": "python",
   "nbconvert_exporter": "python",
   "pygments_lexer": "ipython3",
   "version": "3.12.7"
  }
 },
 "nbformat": 4,
 "nbformat_minor": 5
}
