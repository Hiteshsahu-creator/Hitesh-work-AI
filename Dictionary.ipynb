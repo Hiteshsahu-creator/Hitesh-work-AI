{
 "cells": [
  {
   "cell_type": "code",
   "execution_count": null,
   "id": "55dac78b-5396-4d59-80d4-389e7e567cba",
   "metadata": {},
   "outputs": [],
   "source": [
    "#Dictionary"
   ]
  },
  {
   "cell_type": "raw",
   "id": "47678a7a-1d15-42c8-b0d9-d0435e7ea3e3",
   "metadata": {},
   "source": [
    "Dictionary is a mutable data type in Python.\n",
    "A python dictionary is a collection of key and value pairs separated by a colon (:) & enclosed in curly braces {}.\n",
    "Keys must be unique in a dictionary, duplicate values are allowed"
   ]
  },
  {
   "cell_type": "code",
   "execution_count": 1,
   "id": "41c8f9de-5230-49ef-a290-a446c3aec37b",
   "metadata": {},
   "outputs": [
    {
     "data": {
      "text/plain": [
       "{}"
      ]
     },
     "execution_count": 1,
     "metadata": {},
     "output_type": "execute_result"
    }
   ],
   "source": [
    "mydict={}\n",
    "mydict"
   ]
  },
  {
   "cell_type": "code",
   "execution_count": 3,
   "id": "a221a272-8397-4012-a635-1dfbf27a7bc7",
   "metadata": {},
   "outputs": [
    {
     "data": {
      "text/plain": [
       "{1: 'one', 2: 'two', 3: 'three', 4: 'four'}"
      ]
     },
     "execution_count": 3,
     "metadata": {},
     "output_type": "execute_result"
    }
   ],
   "source": [
    "mydict= {1:'one', 2:'two', 3:'three', 4:'four'}\n",
    "mydict"
   ]
  },
  {
   "cell_type": "code",
   "execution_count": 3,
   "id": "11ff8b4d-b346-415d-a44b-169b39d861c2",
   "metadata": {},
   "outputs": [
    {
     "data": {
      "text/plain": [
       "{'a': 'apple', 'b': 'ball', 'c': 'cat', 'd': 'dog'}"
      ]
     },
     "execution_count": 3,
     "metadata": {},
     "output_type": "execute_result"
    }
   ],
   "source": [
    "mydict1= {'a':'apple','b':'ball', 'c':'cat', 'd':'dog'}  #Dictionary with characters KEYS and Values\n",
    "mydict1"
   ]
  },
  {
   "cell_type": "code",
   "execution_count": 9,
   "id": "f5013f45-3bec-4cb5-8aac-4b0c53b11d89",
   "metadata": {},
   "outputs": [
    {
     "data": {
      "text/plain": [
       "{'a': 'apple', 'b': 'ball', 'c': 'cat', 'd': 'dog'}"
      ]
     },
     "execution_count": 9,
     "metadata": {},
     "output_type": "execute_result"
    }
   ],
   "source": [
    "mydict2= {'a':'apple','b':'ball', 'c':'cat', 'd':'dog', 5:'five', 6:'six'}  #Dictionary with mix elements\n",
    "mydict1"
   ]
  },
  {
   "cell_type": "code",
   "execution_count": 32,
   "id": "98d6db34-e03a-4ccb-8e50-c105092b15a6",
   "metadata": {},
   "outputs": [
    {
     "data": {
      "text/plain": [
       "{'a': 'apple',\n",
       " 'b': 'ball',\n",
       " 'c': 'cat',\n",
       " 'd': 'dog',\n",
       " 5: 'five',\n",
       " 6: 'six',\n",
       " 7: 3.5,\n",
       " 8: 9.9}"
      ]
     },
     "execution_count": 32,
     "metadata": {},
     "output_type": "execute_result"
    }
   ],
   "source": [
    "mydict4= {'a':'apple','b':'ball', 'c':'cat', 'd':'dog',5:'five', 6:'six', 7:3.5, 8:9.9}  #Dictionary with mix elements\n",
    "mydict4"
   ]
  },
  {
   "cell_type": "code",
   "execution_count": 15,
   "id": "859da835-90cf-4ac2-8468-7f3d184134c1",
   "metadata": {},
   "outputs": [
    {
     "data": {
      "text/plain": [
       "{'a': 'one', 'b': 'two', 3: 'three'}"
      ]
     },
     "execution_count": 15,
     "metadata": {},
     "output_type": "execute_result"
    }
   ],
   "source": [
    "mydict3= {'a':'one', 'b':'two', 3:'three'}\n",
    "mydict3"
   ]
  },
  {
   "cell_type": "code",
   "execution_count": 24,
   "id": "41863c43-2c44-4e7a-aab9-44d4ecafd3fb",
   "metadata": {},
   "outputs": [
    {
     "data": {
      "text/plain": [
       "{'a': 'one', 'b': 'two', 3: 'three'}"
      ]
     },
     "execution_count": 24,
     "metadata": {},
     "output_type": "execute_result"
    }
   ],
   "source": [
    "mydict3= {'a':'one', 'a':'one','b':'two', 3:'three'} #Mutable\n",
    "mydict3 "
   ]
  },
  {
   "cell_type": "code",
   "execution_count": 26,
   "id": "70c31275-070d-4fdf-b6bf-0ccd11c5abc8",
   "metadata": {},
   "outputs": [
    {
     "data": {
      "text/plain": [
       "{'a': 'one', 'b': 'two', 3: 'three'}"
      ]
     },
     "execution_count": 26,
     "metadata": {},
     "output_type": "execute_result"
    }
   ],
   "source": [
    "mydict3= {'a':'four', 'a':'one','b':'two', 3:'three'} #Mutable\n",
    "mydict3 "
   ]
  },
  {
   "cell_type": "code",
   "execution_count": 28,
   "id": "2e2e467b-0ac9-4016-a2da-835eda2fa951",
   "metadata": {},
   "outputs": [
    {
     "data": {
      "text/plain": [
       "dict_keys(['a', 'b', 3])"
      ]
     },
     "execution_count": 28,
     "metadata": {},
     "output_type": "execute_result"
    }
   ],
   "source": [
    "mydict3.keys()"
   ]
  },
  {
   "cell_type": "code",
   "execution_count": 30,
   "id": "89673603-0681-4d34-9292-74c8df9258f7",
   "metadata": {},
   "outputs": [
    {
     "data": {
      "text/plain": [
       "dict_keys(['a', 'b', 'c', 'd', 5, 6])"
      ]
     },
     "execution_count": 30,
     "metadata": {},
     "output_type": "execute_result"
    }
   ],
   "source": [
    "mydict2.keys()"
   ]
  },
  {
   "cell_type": "code",
   "execution_count": 34,
   "id": "4bf80d0b-425c-4c08-a689-518b70fa6124",
   "metadata": {},
   "outputs": [
    {
     "data": {
      "text/plain": [
       "dict_keys(['a', 'b', 'c', 'd', 5, 6, 7, 8])"
      ]
     },
     "execution_count": 34,
     "metadata": {},
     "output_type": "execute_result"
    }
   ],
   "source": [
    "mydict4.keys()"
   ]
  },
  {
   "cell_type": "code",
   "execution_count": 36,
   "id": "c802fdc1-cdc4-4165-a7c1-11184b9be029",
   "metadata": {},
   "outputs": [
    {
     "data": {
      "text/plain": [
       "dict_values(['apple', 'ball', 'cat', 'dog', 'five', 'six', 3.5, 9.9])"
      ]
     },
     "execution_count": 36,
     "metadata": {},
     "output_type": "execute_result"
    }
   ],
   "source": [
    "mydict4.values()"
   ]
  },
  {
   "cell_type": "code",
   "execution_count": 38,
   "id": "19e1bf31-9614-46e4-a977-b2212dd6c515",
   "metadata": {},
   "outputs": [
    {
     "data": {
      "text/plain": [
       "dict_items([('a', 'apple'), ('b', 'ball'), ('c', 'cat'), ('d', 'dog'), (5, 'five'), (6, 'six'), (7, 3.5), (8, 9.9)])"
      ]
     },
     "execution_count": 38,
     "metadata": {},
     "output_type": "execute_result"
    }
   ],
   "source": [
    "mydict4.items() # Return Dictionary Values using values() method"
   ]
  },
  {
   "cell_type": "code",
   "execution_count": 40,
   "id": "58c64c3d-7158-43e0-82dc-96c6b8d1527f",
   "metadata": {},
   "outputs": [
    {
     "data": {
      "text/plain": [
       "{'a': 'one', 'b': 'two', 3: {'Name': 'Hitesh', 'class': '2025'}}"
      ]
     },
     "execution_count": 40,
     "metadata": {},
     "output_type": "execute_result"
    }
   ],
   "source": [
    "mydict5= {'a':'one', 'a':'one','b':'two', 3:{'Name':'Hitesh', 'class':'2025'}} #Dict with dict nested\n",
    "mydict5"
   ]
  },
  {
   "cell_type": "code",
   "execution_count": 48,
   "id": "ac6cacb8-42ee-44f1-87ea-bcf5033d3914",
   "metadata": {},
   "outputs": [
    {
     "data": {
      "text/plain": [
       "{'c': (10, 20, 30, 40, 50),\n",
       " 'a': (10, 20, 30, 40, 50),\n",
       " 'e': (10, 20, 30, 40, 50),\n",
       " 'd': (10, 20, 30, 40, 50),\n",
       " 'b': (10, 20, 30, 40, 50)}"
      ]
     },
     "execution_count": 48,
     "metadata": {},
     "output_type": "execute_result"
    }
   ],
   "source": [
    "keys= {'a','b','c','d','e'}   ##Creating dict with keys and values\n",
    "value= 10,20,30,40,50\n",
    "mydict6= dict.fromkeys(keys,value)\n",
    "mydict6"
   ]
  },
  {
   "cell_type": "code",
   "execution_count": 50,
   "id": "aba1451f-688c-4da1-a5bd-83a91dcb291e",
   "metadata": {},
   "outputs": [
    {
     "data": {
      "text/plain": [
       "{'c': (10, 20, 30, 40, 50),\n",
       " 'a': (10, 20, 30, 40, 50),\n",
       " 'e': (10, 20, 30, 40, 50),\n",
       " 'd': (10, 20, 30, 40, 50),\n",
       " 'f': (10, 20, 30, 40, 50),\n",
       " 'b': (10, 20, 30, 40, 50)}"
      ]
     },
     "execution_count": 50,
     "metadata": {},
     "output_type": "execute_result"
    }
   ],
   "source": [
    "keys= {'a','b','c','d','e','f'}   ##Creating dict with keys and values\n",
    "value= 10,20,30,40,50\n",
    "mydict7= dict.fromkeys(keys,value)\n",
    "mydict7"
   ]
  },
  {
   "cell_type": "code",
   "execution_count": 70,
   "id": "d31ad8f5-0251-4aad-9e7f-ca4fc852ce13",
   "metadata": {},
   "outputs": [
    {
     "ename": "AttributeError",
     "evalue": "'tuple' object has no attribute 'append'",
     "output_type": "error",
     "traceback": [
      "\u001b[1;31m---------------------------------------------------------------------------\u001b[0m",
      "\u001b[1;31mAttributeError\u001b[0m                            Traceback (most recent call last)",
      "Cell \u001b[1;32mIn[70], line 1\u001b[0m\n\u001b[1;32m----> 1\u001b[0m value\u001b[38;5;241m.\u001b[39mappend(\u001b[38;5;241m90\u001b[39m)\n\u001b[0;32m      2\u001b[0m mydict7\n",
      "\u001b[1;31mAttributeError\u001b[0m: 'tuple' object has no attribute 'append'"
     ]
    }
   ],
   "source": [
    "\n",
    "value.append(90)\n",
    "mydict7"
   ]
  },
  {
   "cell_type": "code",
   "execution_count": 74,
   "id": "b746cdfb-e8ca-48cf-a136-02185f88c3fb",
   "metadata": {},
   "outputs": [
    {
     "data": {
      "text/plain": [
       "{'c': [10, 20, 30, 40, 50],\n",
       " 'd': [10, 20, 30, 40, 50],\n",
       " 'a': [10, 20, 30, 40, 50],\n",
       " 'b': [10, 20, 30, 40, 50]}"
      ]
     },
     "execution_count": 74,
     "metadata": {},
     "output_type": "execute_result"
    }
   ],
   "source": [
    "keys= {'a','b','c','d'}   ##Creating dict with keys and values\n",
    "value=[ 10,20,30,40,50]\n",
    "mydict8= dict.fromkeys(keys,value)\n",
    "mydict8"
   ]
  },
  {
   "cell_type": "code",
   "execution_count": 76,
   "id": "1ed3b13e-f39c-468f-a50c-6a68f5fba045",
   "metadata": {},
   "outputs": [
    {
     "data": {
      "text/plain": [
       "{'c': [10, 20, 30, 40, 50, 60],\n",
       " 'd': [10, 20, 30, 40, 50, 60],\n",
       " 'a': [10, 20, 30, 40, 50, 60],\n",
       " 'b': [10, 20, 30, 40, 50, 60]}"
      ]
     },
     "execution_count": 76,
     "metadata": {},
     "output_type": "execute_result"
    }
   ],
   "source": [
    "value.append(60)      #Append values \n",
    "mydict8   "
   ]
  },
  {
   "cell_type": "code",
   "execution_count": 90,
   "id": "b915b4c2-d5c1-4eac-a289-810cb8a72aac",
   "metadata": {},
   "outputs": [
    {
     "ename": "TypeError",
     "evalue": "'dict' object is not callable",
     "output_type": "error",
     "traceback": [
      "\u001b[1;31m---------------------------------------------------------------------------\u001b[0m",
      "\u001b[1;31mTypeError\u001b[0m                                 Traceback (most recent call last)",
      "Cell \u001b[1;32mIn[90], line 1\u001b[0m\n\u001b[1;32m----> 1\u001b[0m mydict8(\u001b[38;5;241m2\u001b[39m)\n",
      "\u001b[1;31mTypeError\u001b[0m: 'dict' object is not callable"
     ]
    }
   ],
   "source": [
    "mydict8(2)\n"
   ]
  },
  {
   "cell_type": "code",
   "execution_count": 92,
   "id": "a9f88af2-9ac2-4f23-8fbd-cdd724da334b",
   "metadata": {},
   "outputs": [
    {
     "data": {
      "text/plain": [
       "{'a': 'one', 'b': 'two', 3: {'Name': 'Hitesh', 'class': '2025'}}"
      ]
     },
     "execution_count": 92,
     "metadata": {},
     "output_type": "execute_result"
    }
   ],
   "source": [
    "mydict9= {'a':'one', 'a':'one','b':'two', 3:{'Name':'Hitesh', 'class':'2025'}} #Dict with dict nested\n",
    "mydict9"
   ]
  },
  {
   "cell_type": "code",
   "execution_count": 96,
   "id": "65674523-aeb6-44be-b31d-0491b5e4322a",
   "metadata": {},
   "outputs": [
    {
     "ename": "KeyError",
     "evalue": "1",
     "output_type": "error",
     "traceback": [
      "\u001b[1;31m---------------------------------------------------------------------------\u001b[0m",
      "\u001b[1;31mKeyError\u001b[0m                                  Traceback (most recent call last)",
      "Cell \u001b[1;32mIn[96], line 1\u001b[0m\n\u001b[1;32m----> 1\u001b[0m mydict9[\u001b[38;5;241m1\u001b[39m]\n",
      "\u001b[1;31mKeyError\u001b[0m: 1"
     ]
    }
   ],
   "source": [
    "mydict9[1]"
   ]
  },
  {
   "cell_type": "code",
   "execution_count": 98,
   "id": "df164f4c-3bf9-4734-9738-e782818c8e42",
   "metadata": {},
   "outputs": [
    {
     "ename": "SyntaxError",
     "evalue": "invalid syntax (2769154410.py, line 1)",
     "output_type": "error",
     "traceback": [
      "\u001b[1;36m  Cell \u001b[1;32mIn[98], line 1\u001b[1;36m\u001b[0m\n\u001b[1;33m    mydict9.get{1}\u001b[0m\n\u001b[1;37m               ^\u001b[0m\n\u001b[1;31mSyntaxError\u001b[0m\u001b[1;31m:\u001b[0m invalid syntax\n"
     ]
    }
   ],
   "source": [
    "mydict9.get{1}"
   ]
  },
  {
   "cell_type": "code",
   "execution_count": 100,
   "id": "adbd69a0-8bbe-41d5-a2e5-7e72d972f98a",
   "metadata": {},
   "outputs": [
    {
     "data": {
      "text/plain": [
       "{1: 'one', 2: 'two', 3: 'three', 4: 'four'}"
      ]
     },
     "execution_count": 100,
     "metadata": {},
     "output_type": "execute_result"
    }
   ],
   "source": [
    "mydict = {1:'one' , 2:'two' , 3:'three' , 4:'four'} \n",
    "mydict"
   ]
  },
  {
   "cell_type": "code",
   "execution_count": 102,
   "id": "c7c95ed6-31c7-499d-947b-49aa630f847c",
   "metadata": {},
   "outputs": [
    {
     "data": {
      "text/plain": [
       "'one'"
      ]
     },
     "execution_count": 102,
     "metadata": {},
     "output_type": "execute_result"
    }
   ],
   "source": [
    "mydict[1]"
   ]
  },
  {
   "cell_type": "code",
   "execution_count": 106,
   "id": "a6c48891-a431-4866-8eaf-1b37debb6c8a",
   "metadata": {},
   "outputs": [
    {
     "data": {
      "text/plain": [
       "'one'"
      ]
     },
     "execution_count": 106,
     "metadata": {},
     "output_type": "execute_result"
    }
   ],
   "source": [
    "mydict.get(1)"
   ]
  },
  {
   "cell_type": "code",
   "execution_count": 110,
   "id": "dfdc4bf9-5c41-469a-a1af-4700645322bf",
   "metadata": {},
   "outputs": [
    {
     "data": {
      "text/plain": [
       "'one'"
      ]
     },
     "execution_count": 110,
     "metadata": {},
     "output_type": "execute_result"
    }
   ],
   "source": [
    "mydict9['a']"
   ]
  },
  {
   "cell_type": "code",
   "execution_count": 122,
   "id": "89a2e92a-7e6c-4ff1-8995-c231e8ea39b9",
   "metadata": {},
   "outputs": [
    {
     "data": {
      "text/plain": [
       "{'a': 'one', 'b': 'two', 3: 'three'}"
      ]
     },
     "execution_count": 122,
     "metadata": {},
     "output_type": "execute_result"
    }
   ],
   "source": [
    "mydict10= {'a':'four', 'a':'one','b':'two', 3:'three'} #Mutable\n",
    "mydict10"
   ]
  },
  {
   "cell_type": "code",
   "execution_count": 124,
   "id": "9c01bff1-31ff-41b1-9f48-98508060d3be",
   "metadata": {},
   "outputs": [
    {
     "ename": "NameError",
     "evalue": "name 'a' is not defined",
     "output_type": "error",
     "traceback": [
      "\u001b[1;31m---------------------------------------------------------------------------\u001b[0m",
      "\u001b[1;31mNameError\u001b[0m                                 Traceback (most recent call last)",
      "Cell \u001b[1;32mIn[124], line 1\u001b[0m\n\u001b[1;32m----> 1\u001b[0m mydict10[a]\u001b[38;5;241m=\u001b[39m \u001b[38;5;124m'\u001b[39m\u001b[38;5;124marabia\u001b[39m\u001b[38;5;124m'\u001b[39m\n\u001b[0;32m      2\u001b[0m mydict10\n",
      "\u001b[1;31mNameError\u001b[0m: name 'a' is not defined"
     ]
    }
   ],
   "source": [
    "mydict10[a]= 'arabia'\n",
    "mydict10"
   ]
  },
  {
   "cell_type": "code",
   "execution_count": 126,
   "id": "84fa11cb-74f9-4b86-b7cc-c0e0794853e1",
   "metadata": {},
   "outputs": [
    {
     "data": {
      "text/plain": [
       "{'a': 'one', 'b': 'two', 3: 'three'}"
      ]
     },
     "execution_count": 126,
     "metadata": {},
     "output_type": "execute_result"
    }
   ],
   "source": [
    "mydict11= {'a':'four', 'a':'one','b':'two', 3:'three'} #Mutable\n",
    "mydict11\n",
    "\n"
   ]
  },
  {
   "cell_type": "code",
   "execution_count": 128,
   "id": "3cb6fb65-ee00-46bd-b2da-d1ccda180688",
   "metadata": {},
   "outputs": [
    {
     "ename": "NameError",
     "evalue": "name 'a' is not defined",
     "output_type": "error",
     "traceback": [
      "\u001b[1;31m---------------------------------------------------------------------------\u001b[0m",
      "\u001b[1;31mNameError\u001b[0m                                 Traceback (most recent call last)",
      "Cell \u001b[1;32mIn[128], line 1\u001b[0m\n\u001b[1;32m----> 1\u001b[0m mydict11[a]\u001b[38;5;241m=\u001b[39m \u001b[38;5;124m'\u001b[39m\u001b[38;5;124marabia\u001b[39m\u001b[38;5;124m'\u001b[39m\n\u001b[0;32m      2\u001b[0m mydict11\n",
      "\u001b[1;31mNameError\u001b[0m: name 'a' is not defined"
     ]
    }
   ],
   "source": [
    "mydict11[a]= 'arabia'\n",
    "mydict11"
   ]
  },
  {
   "cell_type": "code",
   "execution_count": 130,
   "id": "5bf72cdb-3604-4b2c-8cae-31f653c20662",
   "metadata": {},
   "outputs": [
    {
     "data": {
      "text/plain": [
       "{'Name': 'Asif', 'ID': 12345, 'DOB': 1991, 'Address': 'Hilsinki'}"
      ]
     },
     "execution_count": 130,
     "metadata": {},
     "output_type": "execute_result"
    }
   ],
   "source": [
    "mydict11 = {'Name':'Asif' , 'ID': 12345 , 'DOB': 1991 , 'Address' : 'Hilsinki'} \n",
    "mydict11"
   ]
  },
  {
   "cell_type": "code",
   "execution_count": 132,
   "id": "502e8d00-29ac-4f1f-b3c1-4f35e8ad16a0",
   "metadata": {},
   "outputs": [
    {
     "data": {
      "text/plain": [
       "{'Name': 'Asif', 'ID': 12345, 'DOB': 1992, 'Address': 'Delhi'}"
      ]
     },
     "execution_count": 132,
     "metadata": {},
     "output_type": "execute_result"
    }
   ],
   "source": [
    "mydict11['DOB'] = 1992 # Changing Dictionary Items\n",
    "mydict11['Address'] = 'Delhi' \n",
    "mydict11"
   ]
  },
  {
   "cell_type": "code",
   "execution_count": 136,
   "id": "59932928-dcf4-4fed-90ac-ee8e5f1ede22",
   "metadata": {},
   "outputs": [
    {
     "data": {
      "text/plain": [
       "{'Name': 'Asif',\n",
       " 'ID': 12345,\n",
       " 'DOB': 1992,\n",
       " 'Address': 'Delhi',\n",
       " 'role': 'Salesman'}"
      ]
     },
     "execution_count": 136,
     "metadata": {},
     "output_type": "execute_result"
    }
   ],
   "source": [
    "mydict11['role']= 'Salesman'\n",
    "mydict11      #Adding items to DIct"
   ]
  },
  {
   "cell_type": "code",
   "execution_count": 140,
   "id": "473ca0c6-f793-486a-a4e7-1d6d91c32bb4",
   "metadata": {},
   "outputs": [
    {
     "data": {
      "text/plain": [
       "{'Name': 'Asif',\n",
       " 'ID': 12345,\n",
       " 'DOB': 2000,\n",
       " 'Address': 'Delhi',\n",
       " 'role': 'Salesman'}"
      ]
     },
     "execution_count": 140,
     "metadata": {},
     "output_type": "execute_result"
    }
   ],
   "source": [
    "dict11= {'DOB':2000}\n",
    "mydict11.update(dict11)     #Update the DICT\n",
    "mydict11"
   ]
  },
  {
   "cell_type": "code",
   "execution_count": 144,
   "id": "4d1e8c87-602e-4ccb-9b7f-e88a49750df8",
   "metadata": {},
   "outputs": [
    {
     "data": {
      "text/plain": [
       "{'b': 'two', 3: {'Name': 'Hitesh', 'class': '2025'}}"
      ]
     },
     "execution_count": 144,
     "metadata": {},
     "output_type": "execute_result"
    }
   ],
   "source": [
    "mydict9.pop('a')   #Remove a from Pop\n",
    "mydict9"
   ]
  },
  {
   "cell_type": "code",
   "execution_count": 146,
   "id": "be77046b-fc26-49b5-a216-debe8e9d45ac",
   "metadata": {},
   "outputs": [
    {
     "data": {
      "text/plain": [
       "{'b': 'two'}"
      ]
     },
     "execution_count": 146,
     "metadata": {},
     "output_type": "execute_result"
    }
   ],
   "source": [
    "mydict9.popitem()  #Random item removed from dict\n",
    "mydict9"
   ]
  },
  {
   "cell_type": "code",
   "execution_count": 148,
   "id": "b51a92ef-75ed-42d0-869b-a7e8a7aa40d5",
   "metadata": {},
   "outputs": [
    {
     "data": {
      "text/plain": [
       "{'Name': 'Asif', 'DOB': 2000, 'Address': 'Delhi', 'role': 'Salesman'}"
      ]
     },
     "execution_count": 148,
     "metadata": {},
     "output_type": "execute_result"
    }
   ],
   "source": [
    "del[mydict11['ID']]  #delete the ID from the list\n",
    "mydict11"
   ]
  },
  {
   "cell_type": "code",
   "execution_count": 150,
   "id": "1083f295-cc13-4f94-935b-baf5cd959d75",
   "metadata": {},
   "outputs": [
    {
     "data": {
      "text/plain": [
       "{}"
      ]
     },
     "execution_count": 150,
     "metadata": {},
     "output_type": "execute_result"
    }
   ],
   "source": [
    "mydict.clear()   # clear the dict\n",
    "mydict"
   ]
  },
  {
   "cell_type": "code",
   "execution_count": 152,
   "id": "d6efdbe3-7005-47a6-8e74-8bce90228968",
   "metadata": {},
   "outputs": [
    {
     "name": "stdout",
     "output_type": "stream",
     "text": [
      "Name\n",
      "DOB\n",
      "Address\n",
      "role\n"
     ]
    }
   ],
   "source": [
    "for i in mydict11:\n",
    "    print(i)"
   ]
  },
  {
   "cell_type": "code",
   "execution_count": 152,
   "id": "04a3b0df-50ac-4790-a7c3-9c709bfe57f5",
   "metadata": {},
   "outputs": [
    {
     "name": "stdout",
     "output_type": "stream",
     "text": [
      "Name\n",
      "DOB\n",
      "Address\n",
      "role\n"
     ]
    }
   ],
   "source": [
    "for i in mydict11:\n",
    "    print(i)"
   ]
  },
  {
   "cell_type": "code",
   "execution_count": 158,
   "id": "b33dba8e-d7fa-465e-a67b-53bf6ccaf01b",
   "metadata": {},
   "outputs": [
    {
     "name": "stdout",
     "output_type": "stream",
     "text": [
      "Name : Asif\n",
      "DOB : 2000\n",
      "Address : Delhi\n",
      "role : Salesman\n"
     ]
    }
   ],
   "source": [
    "for i in (mydict11):\n",
    "    print(i, ':', mydict11[i])  # Key & value pair"
   ]
  },
  {
   "cell_type": "code",
   "execution_count": 160,
   "id": "31c9b6b4-9d53-4e4e-80b9-1ad2fd8c665a",
   "metadata": {},
   "outputs": [
    {
     "data": {
      "text/plain": [
       "True"
      ]
     },
     "execution_count": 160,
     "metadata": {},
     "output_type": "execute_result"
    }
   ],
   "source": [
    "'Address' in mydict11  #Membership"
   ]
  },
  {
   "cell_type": "code",
   "execution_count": 162,
   "id": "437d70f4-4e16-4e84-900c-0fbfc1548c85",
   "metadata": {},
   "outputs": [
    {
     "data": {
      "text/plain": [
       "True"
      ]
     },
     "execution_count": 162,
     "metadata": {},
     "output_type": "execute_result"
    }
   ],
   "source": [
    "all(mydict11)   #Returns true as all values are true and no false (0)"
   ]
  },
  {
   "cell_type": "code",
   "execution_count": null,
   "id": "9de524ff-888d-4642-9d7d-cd8cb6c33725",
   "metadata": {},
   "outputs": [],
   "source": []
  }
 ],
 "metadata": {
  "kernelspec": {
   "display_name": "Python [conda env:base] *",
   "language": "python",
   "name": "conda-base-py"
  },
  "language_info": {
   "codemirror_mode": {
    "name": "ipython",
    "version": 3
   },
   "file_extension": ".py",
   "mimetype": "text/x-python",
   "name": "python",
   "nbconvert_exporter": "python",
   "pygments_lexer": "ipython3",
   "version": "3.12.7"
  }
 },
 "nbformat": 4,
 "nbformat_minor": 5
}
