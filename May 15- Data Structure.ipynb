{
 "cells": [
  {
   "cell_type": "code",
   "execution_count": null,
   "id": "f3795d8d-557b-4092-942a-8ce10fb05f80",
   "metadata": {},
   "outputs": [],
   "source": [
    "#Data Structure"
   ]
  },
  {
   "cell_type": "code",
   "execution_count": 12,
   "id": "bc01abd5-e1b2-4af0-a04d-09afb4edebd2",
   "metadata": {},
   "outputs": [],
   "source": [
    "a= 5 # user or devloper define one value- Data Type"
   ]
  },
  {
   "cell_type": "code",
   "execution_count": null,
   "id": "d79c49b4-ec59-4725-8e70-13edcdc4362d",
   "metadata": {},
   "outputs": [],
   "source": [
    "b= 6,7,8,8,9 # User or developer define more than one value - Data Structure- Collection of data types"
   ]
  },
  {
   "cell_type": "code",
   "execution_count": null,
   "id": "37f2ef94-f260-474d-b436-53d6507b5f39",
   "metadata": {},
   "outputs": [],
   "source": [
    "# Matrix contains table (rows and columns)- Collection of data structure"
   ]
  },
  {
   "cell_type": "code",
   "execution_count": 14,
   "id": "8c5cb369-4160-4da6-be15-0d7722c4d800",
   "metadata": {},
   "outputs": [
    {
     "data": {
      "text/plain": [
       "int"
      ]
     },
     "execution_count": 14,
     "metadata": {},
     "output_type": "execute_result"
    }
   ],
   "source": [
    "type(a)\n"
   ]
  },
  {
   "cell_type": "markdown",
   "id": "e1373653-b398-4c35-b4ad-94e15b62e1df",
   "metadata": {},
   "source": [
    "#Python Data Structure(DS) are two types\n",
    "1. Inbuild DS= list, tuple,set, dict\n",
    "2. User Define DS= stack, linkedlist, heap, tree (normally used by some libraries as uses algorithms like knn regression, knn classifier)"
   ]
  },
  {
   "cell_type": "code",
   "execution_count": null,
   "id": "e354310a-6651-4464-bb03-3c2773aa9161",
   "metadata": {},
   "outputs": [],
   "source": [
    "# 1. List Data Structure- Always contained in the [] sqaure bracket"
   ]
  },
  {
   "cell_type": "code",
   "execution_count": 18,
   "id": "6ad8e7da-f77e-4adf-bb41-496e1d13d602",
   "metadata": {},
   "outputs": [
    {
     "data": {
      "text/plain": [
       "[]"
      ]
     },
     "execution_count": 18,
     "metadata": {},
     "output_type": "execute_result"
    }
   ],
   "source": [
    "l= []\n",
    "l    # Empty List "
   ]
  },
  {
   "cell_type": "code",
   "execution_count": 20,
   "id": "0b54cb68-6d16-42b4-a51d-dda10185b641",
   "metadata": {},
   "outputs": [
    {
     "data": {
      "text/plain": [
       "list"
      ]
     },
     "execution_count": 20,
     "metadata": {},
     "output_type": "execute_result"
    }
   ],
   "source": [
    "type(l)"
   ]
  },
  {
   "cell_type": "code",
   "execution_count": null,
   "id": "d6be0d2d-c052-4be1-9d51-13ad0da097a5",
   "metadata": {},
   "outputs": [],
   "source": [
    "l.         #l.tab to see all the functions"
   ]
  },
  {
   "cell_type": "code",
   "execution_count": 22,
   "id": "bde95aea-1cc6-48fd-ac28-e2e41d6f05b0",
   "metadata": {},
   "outputs": [
    {
     "name": "stdout",
     "output_type": "stream",
     "text": [
      "0\n"
     ]
    }
   ],
   "source": [
    "print(len(l))"
   ]
  },
  {
   "cell_type": "code",
   "execution_count": 26,
   "id": "022a410d-c1f4-4efd-9047-7e06ba99501b",
   "metadata": {},
   "outputs": [
    {
     "data": {
      "text/plain": [
       "[10, 10]"
      ]
     },
     "execution_count": 26,
     "metadata": {},
     "output_type": "execute_result"
    }
   ],
   "source": [
    "l.append(10)  # adding the data at the end of the list. # Duplicate is allowed in append. #List is expandable. \n",
    "l"
   ]
  },
  {
   "cell_type": "code",
   "execution_count": 30,
   "id": "3654b6f0-e0db-43db-88c1-93f6edb12f66",
   "metadata": {},
   "outputs": [
    {
     "data": {
      "text/plain": [
       "[10, 10, 20, 30, 40, 50, 20, 30, 40, 50, 50]"
      ]
     },
     "execution_count": 30,
     "metadata": {},
     "output_type": "execute_result"
    }
   ],
   "source": [
    "l.append(20)\n",
    "l.append(30)\n",
    "l.append(40)\n",
    "l.append(50)\n",
    "l.append(50)\n",
    "l"
   ]
  },
  {
   "cell_type": "code",
   "execution_count": 32,
   "id": "a94fd065-37ce-45ed-b9ec-e31d75ffbef8",
   "metadata": {},
   "outputs": [
    {
     "ename": "TypeError",
     "evalue": "list.append() takes exactly one argument (4 given)",
     "output_type": "error",
     "traceback": [
      "\u001b[1;31m---------------------------------------------------------------------------\u001b[0m",
      "\u001b[1;31mTypeError\u001b[0m                                 Traceback (most recent call last)",
      "Cell \u001b[1;32mIn[32], line 1\u001b[0m\n\u001b[1;32m----> 1\u001b[0m l\u001b[38;5;241m.\u001b[39mappend(\u001b[38;5;241m60\u001b[39m,\u001b[38;5;241m70\u001b[39m,\u001b[38;5;241m80\u001b[39m,\u001b[38;5;241m90\u001b[39m)\n",
      "\u001b[1;31mTypeError\u001b[0m: list.append() takes exactly one argument (4 given)"
     ]
    }
   ],
   "source": [
    "l.append(60,70,80,90)   # List append only one argument "
   ]
  },
  {
   "cell_type": "code",
   "execution_count": 34,
   "id": "2858ff00-51a7-4f65-910e-b71db54d004a",
   "metadata": {},
   "outputs": [],
   "source": [
    "l1= []\n",
    "l1.append('hit')\n",
    "l1.append ('True'),\n",
    "l1.append(2.3),\n",
    "l1.append(1+2j),\n",
    "l1.append([1,2,3])\n"
   ]
  },
  {
   "cell_type": "code",
   "execution_count": 36,
   "id": "96171af0-006c-4c6d-b2f7-a9805eefa901",
   "metadata": {},
   "outputs": [
    {
     "name": "stdout",
     "output_type": "stream",
     "text": [
      "[10, 10, 20, 30, 40, 50, 20, 30, 40, 50, 50]\n",
      "['hit', 'True', 2.3, (1+2j), [1, 2, 3]]\n"
     ]
    }
   ],
   "source": [
    "print(l)\n",
    "print(l1)    #In Data type you can pass only one value but mutiple data types can be used in data structure."
   ]
  },
  {
   "cell_type": "code",
   "execution_count": 38,
   "id": "a87c4e6a-5188-47f5-9289-c7bfa2a36ec0",
   "metadata": {},
   "outputs": [],
   "source": [
    "l1.append('sahu')"
   ]
  },
  {
   "cell_type": "code",
   "execution_count": 40,
   "id": "02af7dbd-a87b-4ad5-aeb8-e7cf3a393ada",
   "metadata": {},
   "outputs": [
    {
     "name": "stdout",
     "output_type": "stream",
     "text": [
      "['hit', 'True', 2.3, (1+2j), [1, 2, 3], 'sahu']\n"
     ]
    }
   ],
   "source": [
    "print(l1)"
   ]
  },
  {
   "cell_type": "code",
   "execution_count": 42,
   "id": "db411ad4-dc62-4cf8-8975-2a39e73686f6",
   "metadata": {},
   "outputs": [
    {
     "data": {
      "text/plain": [
       "list"
      ]
     },
     "execution_count": 42,
     "metadata": {},
     "output_type": "execute_result"
    }
   ],
   "source": [
    "type(l1)  # List inside the list called nested list [1,2,3]"
   ]
  },
  {
   "cell_type": "code",
   "execution_count": 44,
   "id": "36a48116-0af6-4652-930c-3833507b2c5e",
   "metadata": {},
   "outputs": [
    {
     "name": "stdout",
     "output_type": "stream",
     "text": [
      "hit\n",
      "True\n",
      "2.3\n",
      "(1+2j)\n",
      "[1, 2, 3]\n",
      "sahu\n"
     ]
    }
   ],
   "source": [
    "for i in l1:\n",
    "    print(i)    #For Loop in list"
   ]
  },
  {
   "cell_type": "code",
   "execution_count": 56,
   "id": "f9307e67-89df-42c3-bfd3-0b2aab9ed581",
   "metadata": {},
   "outputs": [
    {
     "name": "stdout",
     "output_type": "stream",
     "text": [
      "(0, 'hit')\n",
      "(1, 'True')\n",
      "(2, 2.3)\n",
      "(3, (1+2j))\n",
      "(4, [1, 2, 3])\n",
      "(5, 'sahu')\n"
     ]
    }
   ],
   "source": [
    "for i in enumerate(l1):   # Enumerate captures the indexes which begins with Zero (n=n-1)\n",
    "  print(i)"
   ]
  },
  {
   "cell_type": "markdown",
   "id": "32d66ecc-a546-48a9-86ac-0d3a285aa1b6",
   "metadata": {},
   "source": [
    "# There three Types of Indexing\n",
    "1. Forward Indexing= Left to Right\n",
    "2. Backward Indexing= Right to Left\n",
    "3. Step Indexing= Every count index jumps"
   ]
  },
  {
   "cell_type": "code",
   "execution_count": 58,
   "id": "942bb485-9f67-4832-aa74-d46c37e6047e",
   "metadata": {},
   "outputs": [
    {
     "data": {
      "text/plain": [
       "[10, 10, 20, 30, 40, 50, 20, 30, 40, 50, 50]"
      ]
     },
     "execution_count": 58,
     "metadata": {},
     "output_type": "execute_result"
    }
   ],
   "source": [
    "l[:]  # slice"
   ]
  },
  {
   "cell_type": "code",
   "execution_count": 60,
   "id": "d7706a3c-f1bb-46b9-9e66-7cf731ac12a1",
   "metadata": {},
   "outputs": [
    {
     "data": {
      "text/plain": [
       "50"
      ]
     },
     "execution_count": 60,
     "metadata": {},
     "output_type": "execute_result"
    }
   ],
   "source": [
    "l[-1] # backward Indexxing"
   ]
  },
  {
   "cell_type": "code",
   "execution_count": 64,
   "id": "11039d87-040c-4ca9-bf74-6f29e7271f41",
   "metadata": {},
   "outputs": [
    {
     "data": {
      "text/plain": [
       "40"
      ]
     },
     "execution_count": 64,
     "metadata": {},
     "output_type": "execute_result"
    }
   ],
   "source": [
    "l[-3]"
   ]
  },
  {
   "cell_type": "code",
   "execution_count": 66,
   "id": "25a423d8-cb53-4cb4-8d03-8911704fa1e0",
   "metadata": {},
   "outputs": [
    {
     "data": {
      "text/plain": [
       "30"
      ]
     },
     "execution_count": 66,
     "metadata": {},
     "output_type": "execute_result"
    }
   ],
   "source": [
    "l[-4]"
   ]
  },
  {
   "cell_type": "code",
   "execution_count": 68,
   "id": "ed1be983-3658-46ef-b2fe-dd4b8477b789",
   "metadata": {},
   "outputs": [
    {
     "data": {
      "text/plain": [
       "50"
      ]
     },
     "execution_count": 68,
     "metadata": {},
     "output_type": "execute_result"
    }
   ],
   "source": [
    "l[10]"
   ]
  },
  {
   "cell_type": "code",
   "execution_count": 70,
   "id": "bab8af29-e447-4e49-8cd8-d318ea60f708",
   "metadata": {},
   "outputs": [
    {
     "ename": "IndexError",
     "evalue": "list index out of range",
     "output_type": "error",
     "traceback": [
      "\u001b[1;31m---------------------------------------------------------------------------\u001b[0m",
      "\u001b[1;31mIndexError\u001b[0m                                Traceback (most recent call last)",
      "Cell \u001b[1;32mIn[70], line 1\u001b[0m\n\u001b[1;32m----> 1\u001b[0m l[\u001b[38;5;241m12\u001b[39m]\n",
      "\u001b[1;31mIndexError\u001b[0m: list index out of range"
     ]
    }
   ],
   "source": [
    "l[12]    # Index out of range"
   ]
  },
  {
   "cell_type": "markdown",
   "id": "da5ab4dd-f773-4147-b4a0-39049a2a9068",
   "metadata": {},
   "source": [
    "# Slicing [:]\n",
    "1. Forward Slicing\n",
    "2. Backward slicing\n",
    "3. Step Slicing"
   ]
  },
  {
   "cell_type": "code",
   "execution_count": 72,
   "id": "d8e918fb-7b5f-4624-8b80-7db1ce2a8aa9",
   "metadata": {},
   "outputs": [
    {
     "data": {
      "text/plain": [
       "[10, 20, 30]"
      ]
     },
     "execution_count": 72,
     "metadata": {},
     "output_type": "execute_result"
    }
   ],
   "source": [
    "l[1:4]"
   ]
  },
  {
   "cell_type": "code",
   "execution_count": 74,
   "id": "61ecaad0-4b47-49ca-91fb-3ae30aad6c43",
   "metadata": {},
   "outputs": [
    {
     "data": {
      "text/plain": [
       "[100, 10, 20, 30, 40, 50, 20, 30, 40, 50, 50]"
      ]
     },
     "execution_count": 74,
     "metadata": {},
     "output_type": "execute_result"
    }
   ],
   "source": [
    "l[0]=100    #List is Mutable- value of position o got changed to 100 from 10)\n",
    "l"
   ]
  },
  {
   "cell_type": "code",
   "execution_count": null,
   "id": "faf9a998-221f-41f9-aa89-a3ac5cd4dd1c",
   "metadata": {},
   "outputs": [],
   "source": []
  },
  {
   "cell_type": "code",
   "execution_count": null,
   "id": "f2f37ab3-e5e9-4837-9540-7488efa3ab01",
   "metadata": {},
   "outputs": [],
   "source": []
  },
  {
   "cell_type": "code",
   "execution_count": null,
   "id": "d21f2650-f81f-4ffc-a650-9b751dda3a8e",
   "metadata": {},
   "outputs": [],
   "source": []
  },
  {
   "cell_type": "code",
   "execution_count": null,
   "id": "4c42bbe8-1af0-4d7b-8fd3-5949a8883ffd",
   "metadata": {},
   "outputs": [],
   "source": []
  },
  {
   "cell_type": "code",
   "execution_count": null,
   "id": "ced9b03a-6beb-44a0-b9e9-bcd8c94770a0",
   "metadata": {},
   "outputs": [],
   "source": []
  }
 ],
 "metadata": {
  "kernelspec": {
   "display_name": "Python [conda env:base] *",
   "language": "python",
   "name": "conda-base-py"
  },
  "language_info": {
   "codemirror_mode": {
    "name": "ipython",
    "version": 3
   },
   "file_extension": ".py",
   "mimetype": "text/x-python",
   "name": "python",
   "nbconvert_exporter": "python",
   "pygments_lexer": "ipython3",
   "version": "3.12.7"
  }
 },
 "nbformat": 4,
 "nbformat_minor": 5
}
